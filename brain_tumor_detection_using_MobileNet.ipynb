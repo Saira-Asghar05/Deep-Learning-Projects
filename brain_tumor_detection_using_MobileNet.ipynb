{
  "nbformat": 4,
  "nbformat_minor": 0,
  "metadata": {
    "colab": {
      "name": "brain tumor detection using MobileNet.ipynb",
      "provenance": []
    },
    "kernelspec": {
      "name": "python3",
      "display_name": "Python 3"
    },
    "language_info": {
      "name": "python"
    },
    "accelerator": "GPU"
  },
  "cells": [
    {
      "cell_type": "code",
      "execution_count": null,
      "metadata": {
        "id": "sQiyr34F-BIp"
      },
      "outputs": [],
      "source": [
        "import numpy as np\n",
        "import tensorflow as tf\n",
        "import keras\n",
        "import matplotlib.pyplot as plt\n",
        "from keras.layers import *\n",
        "from keras import models\n",
        "model = models.Sequential()\n",
        "from keras.preprocessing import image"
      ]
    },
    {
      "cell_type": "code",
      "source": [
        "from tensorflow.keras.applications import MobileNet\n",
        "conv_base = MobileNet(weights='imagenet',\n",
        "include_top=False,\n",
        "input_shape=(224, 224, 3))"
      ],
      "metadata": {
        "colab": {
          "base_uri": "https://localhost:8080/"
        },
        "id": "kUrOU_osBMKV",
        "outputId": "76d3d559-332f-4559-ac95-da1d36e8e916"
      },
      "execution_count": null,
      "outputs": [
        {
          "output_type": "stream",
          "name": "stdout",
          "text": [
            "Downloading data from https://storage.googleapis.com/tensorflow/keras-applications/mobilenet/mobilenet_1_0_224_tf_no_top.h5\n",
            "17227776/17225924 [==============================] - 0s 0us/step\n",
            "17235968/17225924 [==============================] - 0s 0us/step\n"
          ]
        }
      ]
    },
    {
      "cell_type": "code",
      "source": [
        "from keras import models\n",
        "from keras import layers\n",
        "model = models.Sequential()\n",
        "model.add(conv_base)\n",
        "model.add(Dropout(0.25))\n",
        "\n",
        "model.add(layers.Flatten())\n",
        "model.add(layers.Dense(256, activation='relu'))\n",
        "model.add(layers.Dense(128, activation='relu'))\n",
        "model.add(Dropout(0.25))\n",
        "model.add(layers.Dense(1, activation='sigmoid'))"
      ],
      "metadata": {
        "id": "g7xAc3mP-t30"
      },
      "execution_count": null,
      "outputs": []
    },
    {
      "cell_type": "code",
      "source": [
        "model.compile(optimizer=\"rmsprop\",\n",
        " loss=\"binary_crossentropy\",\n",
        " metrics=[\"accuracy\"])"
      ],
      "metadata": {
        "id": "WLPrUQIQ-yDR"
      },
      "execution_count": null,
      "outputs": []
    },
    {
      "cell_type": "code",
      "source": [
        "from tensorflow.keras.utils import image_dataset_from_directory\n",
        "\n",
        "train_dataset = image_dataset_from_directory(\"/content/drive/MyDrive/Thesis Data/train\",\n",
        "                                            image_size=(224, 224), batch_size=32)"
      ],
      "metadata": {
        "colab": {
          "base_uri": "https://localhost:8080/"
        },
        "id": "-L2D05Z7-04I",
        "outputId": "685334e6-018e-4f15-b531-ff716f01d022"
      },
      "execution_count": null,
      "outputs": [
        {
          "output_type": "stream",
          "name": "stdout",
          "text": [
            "Found 4922 files belonging to 2 classes.\n"
          ]
        }
      ]
    },
    {
      "cell_type": "code",
      "source": [
        "val_dataset = image_dataset_from_directory(\"/content/drive/MyDrive/Thesis Data/val\",\n",
        "                                             image_size=(224, 224),batch_size=32)"
      ],
      "metadata": {
        "colab": {
          "base_uri": "https://localhost:8080/"
        },
        "id": "Zt5iRhaO-3QY",
        "outputId": "37d86eff-3612-455a-c8e1-ac941f79c8a6"
      },
      "execution_count": null,
      "outputs": [
        {
          "output_type": "stream",
          "name": "stdout",
          "text": [
            "Found 1406 files belonging to 2 classes.\n"
          ]
        }
      ]
    },
    {
      "cell_type": "code",
      "source": [
        "test_dataset = image_dataset_from_directory(\"/content/drive/MyDrive/Thesis Data/test\",\n",
        "                                             image_size=(224, 224))"
      ],
      "metadata": {
        "colab": {
          "base_uri": "https://localhost:8080/"
        },
        "id": "D9VM8DFZ-64Z",
        "outputId": "f495b48d-d5a6-477c-c654-0c327eb2fa67"
      },
      "execution_count": null,
      "outputs": [
        {
          "output_type": "stream",
          "name": "stdout",
          "text": [
            "Found 705 files belonging to 2 classes.\n"
          ]
        }
      ]
    },
    {
      "cell_type": "code",
      "source": [
        "\n",
        "history = model.fit(\n",
        "train_dataset,validation_data = val_dataset, epochs=10)"
      ],
      "metadata": {
        "colab": {
          "base_uri": "https://localhost:8080/"
        },
        "id": "BJkv8Jo2--5-",
        "outputId": "07f2dc5f-0715-40f7-e167-92c26328335d"
      },
      "execution_count": null,
      "outputs": [
        {
          "output_type": "stream",
          "name": "stdout",
          "text": [
            "Epoch 1/10\n",
            "154/154 [==============================] - 45s 246ms/step - loss: 2.0156 - accuracy: 0.5870 - val_loss: 1.1192 - val_accuracy: 0.5420\n",
            "Epoch 2/10\n",
            "154/154 [==============================] - 36s 231ms/step - loss: 0.4225 - accuracy: 0.8273 - val_loss: 1.1594 - val_accuracy: 0.7660\n",
            "Epoch 3/10\n",
            "154/154 [==============================] - 37s 235ms/step - loss: 0.2128 - accuracy: 0.9378 - val_loss: 2.3036 - val_accuracy: 0.8037\n",
            "Epoch 4/10\n",
            "154/154 [==============================] - 37s 233ms/step - loss: 0.0894 - accuracy: 0.9823 - val_loss: 0.0219 - val_accuracy: 0.9943\n",
            "Epoch 5/10\n",
            "154/154 [==============================] - 37s 233ms/step - loss: 0.0622 - accuracy: 0.9886 - val_loss: 1.0680 - val_accuracy: 0.9175\n",
            "Epoch 6/10\n",
            "154/154 [==============================] - 37s 233ms/step - loss: 0.0526 - accuracy: 0.9949 - val_loss: 0.5629 - val_accuracy: 0.9275\n",
            "Epoch 7/10\n",
            "154/154 [==============================] - 37s 234ms/step - loss: 0.0534 - accuracy: 0.9953 - val_loss: 0.0068 - val_accuracy: 0.9986\n",
            "Epoch 8/10\n",
            "154/154 [==============================] - 36s 232ms/step - loss: 0.0217 - accuracy: 0.9978 - val_loss: 0.1308 - val_accuracy: 0.9865\n",
            "Epoch 9/10\n",
            "154/154 [==============================] - 36s 232ms/step - loss: 0.0388 - accuracy: 0.9976 - val_loss: 0.0024 - val_accuracy: 0.9993\n",
            "Epoch 10/10\n",
            "149/154 [============================>.] - ETA: 1s - loss: 0.0066 - accuracy: 0.9990"
          ]
        }
      ]
    },
    {
      "cell_type": "code",
      "source": [
        "import matplotlib.pyplot as plt\n",
        "accuracy = history.history[\"accuracy\"]\n",
        "val_accuracy = history.history[\"val_accuracy\"]\n",
        "loss = history.history[\"loss\"]\n",
        "val_loss = history.history[\"val_loss\"]\n",
        "epochs = range(1, len(accuracy) + 1)\n",
        "plt.plot(epochs, accuracy, \"bo\", label=\"Training accuracy\")\n",
        "plt.plot(epochs, val_accuracy, \"b\", label=\"Validation accuracy\")\n",
        "plt.title(\"Training and validation accuracy\")\n",
        "plt.legend()\n",
        "plt.figure()\n",
        "plt.plot(epochs, loss, \"bo\", label=\"Training loss\")\n",
        "plt.plot(epochs, val_loss, \"b\", label=\"Validation loss\")\n",
        "plt.title(\"Training and validation loss\")\n",
        "plt.legend()\n",
        "plt.show()"
      ],
      "metadata": {
        "id": "SgI7lW4P_DJ3"
      },
      "execution_count": null,
      "outputs": []
    },
    {
      "cell_type": "code",
      "source": [
        "model.evaluate(test_dataset)"
      ],
      "metadata": {
        "id": "oTlqxwff_HIB"
      },
      "execution_count": null,
      "outputs": []
    },
    {
      "cell_type": "code",
      "source": [
        ""
      ],
      "metadata": {
        "id": "3ieNCIh4_Kkp"
      },
      "execution_count": null,
      "outputs": []
    }
  ]
}