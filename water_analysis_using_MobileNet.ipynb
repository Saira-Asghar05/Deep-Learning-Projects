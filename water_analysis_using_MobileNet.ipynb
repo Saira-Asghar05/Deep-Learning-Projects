{
  "cells": [
    {
      "cell_type": "code",
      "execution_count": null,
      "metadata": {
        "id": "C662VB6Osuny"
      },
      "outputs": [],
      "source": [
        ""
      ]
    },
    {
      "cell_type": "code",
      "execution_count": 2,
      "metadata": {
        "id": "F5LlJMxNj_A6"
      },
      "outputs": [],
      "source": [
        "\n",
        "import os\n",
        "import glob\n",
        "import h5py\n",
        "from PIL import Image\n",
        "from keras.models import Sequential, Model\n",
        "from keras.applications.vgg16 import VGG16, preprocess_input\n",
        "from keras.preprocessing.image import ImageDataGenerator,load_img, img_to_array\n",
        "from keras.models import Sequential\n",
        "from keras.layers import Conv2D, MaxPooling2D, Dense, Dropout, Input, Flatten, SeparableConv2D\n",
        "from keras.layers import GlobalMaxPooling2D\n",
        "from tensorflow.keras.layers import BatchNormalization\n",
        "from keras.models import Model\n",
        "from tensorflow.keras.optimizers import Adam , SGD, RMSprop\n",
        "from keras.callbacks import ModelCheckpoint, Callback, EarlyStopping\n",
        "from tensorflow.keras.utils import to_categorical\n",
        "from keras import backend as K\n",
        "import numpy as np"
      ]
    },
    {
      "cell_type": "code",
      "execution_count": 2,
      "metadata": {
        "id": "PnLct_aKm-a1"
      },
      "outputs": [],
      "source": [
        ""
      ]
    },
    {
      "cell_type": "code",
      "execution_count": 22,
      "metadata": {
        "colab": {
          "base_uri": "https://localhost:8080/"
        },
        "id": "bt6EGrBXnBjV",
        "outputId": "71648468-e9d4-46ad-faa1-42b057aa2b85"
      },
      "outputs": [
        {
          "output_type": "stream",
          "name": "stdout",
          "text": [
            "Found 190 images belonging to 3 classes.\n",
            "Found 49 images belonging to 3 classes.\n"
          ]
        }
      ],
      "source": [
        "\n",
        "\n",
        "import keras\n",
        "import tensorflow as tf\n",
        "from tensorflow.keras import layers\n",
        "\n",
        "data_augmentation = keras.Sequential(\n",
        " [\n",
        " layers.RandomFlip(\"horizontal\"),\n",
        " layers.RandomRotation(0.1),\n",
        " layers.RandomZoom(0.2),\n",
        " ]\n",
        ")\n",
        "\n",
        "\n",
        "from tensorflow.keras.preprocessing.image import ImageDataGenerator\n",
        "train_datagen = ImageDataGenerator( preprocessing_function= preprocess_input,\n",
        "                                   horizontal_flip = True,\n",
        "                                     rescale=1./255 )\n",
        "\n",
        "\n",
        "validation_datagen = ImageDataGenerator(preprocessing_function= preprocess_input,\n",
        "                                        horizontal_flip = True,\n",
        "                                        rescale=1./255)\n",
        "\n",
        "train_data = train_datagen.flow_from_directory(\n",
        "                    '/content/drive/MyDrive/water analysis/split data/train',\n",
        "                    target_size=(224, 224), batch_size= 16)\n",
        "\n",
        "batches = validation_datagen.flow_from_directory(\n",
        "                    '/content/drive/MyDrive/water analysis/split data/val',\n",
        "                   target_size=(224,224),batch_size= 49)\n",
        "                    "
      ]
    },
    {
      "cell_type": "code",
      "execution_count": 23,
      "metadata": {
        "colab": {
          "base_uri": "https://localhost:8080/"
        },
        "id": "oTCpgSIOo2kx",
        "outputId": "21a0dfd4-3eff-4408-dc3a-bcddf077528a"
      },
      "outputs": [
        {
          "output_type": "execute_result",
          "data": {
            "text/plain": [
              "{'clean water': 0, 'lake': 1, 'pound': 2}"
            ]
          },
          "metadata": {},
          "execution_count": 23
        }
      ],
      "source": [
        "\n",
        "from PIL import ImageFile\n",
        "ImageFile.LOAD_TRUNCATED_IMAGES = True\n",
        "\n",
        "imgs, labels = next(batches)\n",
        "\n",
        "batches.class_indices"
      ]
    },
    {
      "cell_type": "code",
      "execution_count": 24,
      "metadata": {
        "colab": {
          "base_uri": "https://localhost:8080/"
        },
        "id": "6LMYjzMIqVFc",
        "outputId": "f1c3545f-f74c-4f28-e44a-9b606aae96b3"
      },
      "outputs": [
        {
          "output_type": "execute_result",
          "data": {
            "text/plain": [
              "{'clean water': 0, 'lake': 1, 'pound': 2}"
            ]
          },
          "metadata": {},
          "execution_count": 24
        }
      ],
      "source": [
        "\n",
        "\n",
        "\n",
        "\n",
        "\n",
        "categories = {\n",
        "'clean water': 0, 'lake': 1, 'pound': 2\n",
        "}\n",
        "\n",
        "categories"
      ]
    },
    {
      "cell_type": "code",
      "execution_count": 25,
      "metadata": {
        "colab": {
          "base_uri": "https://localhost:8080/",
          "height": 54
        },
        "id": "x_h6EO9Hq_GU",
        "outputId": "ac847db8-2532-4855-b235-2f69dd359511"
      },
      "outputs": [
        {
          "output_type": "execute_result",
          "data": {
            "text/plain": [
              "'from sklearn.model_selection import train_test_split\\n# Train, validation and test split\\n\\nX_val, X_test, y_val, y_test = train_test_split(imgs,labels, test_size=0.2, random_state=7)\\n\\n'"
            ],
            "application/vnd.google.colaboratory.intrinsic+json": {
              "type": "string"
            }
          },
          "metadata": {},
          "execution_count": 25
        }
      ],
      "source": [
        "\n",
        "'''from sklearn.model_selection import train_test_split\n",
        "# Train, validation and test split\n",
        "\n",
        "X_val, X_test, y_val, y_test = train_test_split(imgs,labels, test_size=0.2, random_state=7)\n",
        "\n",
        "'''"
      ]
    },
    {
      "cell_type": "code",
      "execution_count": 26,
      "metadata": {
        "colab": {
          "base_uri": "https://localhost:8080/",
          "height": 54
        },
        "id": "atNGsqRarDcr",
        "outputId": "b100a7f3-36c6-4b5c-d907-79a24ea72dc8"
      },
      "outputs": [
        {
          "output_type": "execute_result",
          "data": {
            "text/plain": [
              "'print(\"*-*-*-*-*-*\")\\nprint(\"Train\")\\nprint(X_val.shape)\\nprint(y_val.shape)\\n\\nprint(\"*-*-*-*-*-*\")\\nprint(\"Test\")\\nprint(X_test.shape)\\nprint(y_test.shape)\\n'"
            ],
            "application/vnd.google.colaboratory.intrinsic+json": {
              "type": "string"
            }
          },
          "metadata": {},
          "execution_count": 26
        }
      ],
      "source": [
        "\n",
        "\n",
        "'''print(\"*-*-*-*-*-*\")\n",
        "print(\"Train\")\n",
        "print(X_val.shape)\n",
        "print(y_val.shape)\n",
        "\n",
        "print(\"*-*-*-*-*-*\")\n",
        "print(\"Test\")\n",
        "print(X_test.shape)\n",
        "print(y_test.shape)\n",
        "'''"
      ]
    },
    {
      "cell_type": "code",
      "execution_count": 27,
      "metadata": {
        "colab": {
          "base_uri": "https://localhost:8080/"
        },
        "id": "y9lxhAohrF1k",
        "outputId": "c98f6546-b361-475b-c9cd-ab861dc63345"
      },
      "outputs": [
        {
          "output_type": "stream",
          "name": "stdout",
          "text": [
            "Downloading data from https://storage.googleapis.com/tensorflow/keras-applications/mobilenet/mobilenet_1_0_224_tf_no_top.h5\n",
            "17227776/17225924 [==============================] - 0s 0us/step\n",
            "17235968/17225924 [==============================] - 0s 0us/step\n"
          ]
        }
      ],
      "source": [
        "from tensorflow.keras.applications import MobileNet\n",
        "conv_base = MobileNet(weights='imagenet',\n",
        "include_top=False,\n",
        "input_shape=(224, 224, 3))"
      ]
    },
    {
      "cell_type": "code",
      "execution_count": 28,
      "metadata": {
        "id": "qkyh8CICrVA5"
      },
      "outputs": [],
      "source": [
        "from keras import models\n",
        "from keras import layers\n",
        "model = models.Sequential()\n",
        "model.add(conv_base)\n",
        "#model.add(data_augmentation)\n",
        "model.add(Dropout(0.25))\n",
        "\n",
        "model.add(layers.Flatten())\n",
        "model.add(layers.Dense(512, activation='relu'))\n",
        "model.add(layers.Dense(256, activation='relu'))\n",
        "model.add(layers.Dense(128, activation='relu'))\n",
        "model.add(Dropout(0.25))\n",
        "model.add(layers.Dense(3, activation='softmax'))"
      ]
    },
    {
      "cell_type": "code",
      "execution_count": 29,
      "metadata": {
        "colab": {
          "base_uri": "https://localhost:8080/"
        },
        "id": "37kbxZVHrbiy",
        "outputId": "f9adbb47-8fe1-4533-8268-75a04a5d1769"
      },
      "outputs": [
        {
          "output_type": "stream",
          "name": "stdout",
          "text": [
            "Model: \"sequential_4\"\n",
            "_________________________________________________________________\n",
            " Layer (type)                Output Shape              Param #   \n",
            "=================================================================\n",
            " mobilenet_1.00_224 (Functio  (None, 7, 7, 1024)       3228864   \n",
            " nal)                                                            \n",
            "                                                                 \n",
            " dropout_2 (Dropout)         (None, 7, 7, 1024)        0         \n",
            "                                                                 \n",
            " flatten_1 (Flatten)         (None, 50176)             0         \n",
            "                                                                 \n",
            " dense_4 (Dense)             (None, 512)               25690624  \n",
            "                                                                 \n",
            " dense_5 (Dense)             (None, 256)               131328    \n",
            "                                                                 \n",
            " dense_6 (Dense)             (None, 128)               32896     \n",
            "                                                                 \n",
            " dropout_3 (Dropout)         (None, 128)               0         \n",
            "                                                                 \n",
            " dense_7 (Dense)             (None, 3)                 387       \n",
            "                                                                 \n",
            "=================================================================\n",
            "Total params: 29,084,099\n",
            "Trainable params: 29,062,211\n",
            "Non-trainable params: 21,888\n",
            "_________________________________________________________________\n"
          ]
        }
      ],
      "source": [
        "\n",
        "\n",
        "\n",
        "model.summary()"
      ]
    },
    {
      "cell_type": "code",
      "execution_count": 30,
      "metadata": {
        "id": "40tKnK5Trg68"
      },
      "outputs": [],
      "source": [
        "\n",
        "\n",
        "model.compile(optimizer=\"rmsprop\",\n",
        " loss=\"categorical_crossentropy\",\n",
        " metrics=[\"accuracy\"])"
      ]
    },
    {
      "cell_type": "code",
      "execution_count": 31,
      "metadata": {
        "colab": {
          "base_uri": "https://localhost:8080/"
        },
        "id": "Icf14IqjrjwI",
        "outputId": "e7a02dbd-05a2-4170-c784-e3818348c701"
      },
      "outputs": [
        {
          "output_type": "stream",
          "name": "stdout",
          "text": [
            "Epoch 1/50\n",
            "12/12 [==============================] - 9s 303ms/step - loss: 16.6257 - accuracy: 0.5632 - val_loss: 287.3000 - val_accuracy: 0.4898\n",
            "Epoch 2/50\n",
            "12/12 [==============================] - 2s 148ms/step - loss: 0.3026 - accuracy: 0.8737 - val_loss: 248.9494 - val_accuracy: 0.4898\n",
            "Epoch 3/50\n",
            "12/12 [==============================] - 2s 149ms/step - loss: 0.3858 - accuracy: 0.9211 - val_loss: 143.6771 - val_accuracy: 0.4898\n",
            "Epoch 4/50\n",
            "12/12 [==============================] - 2s 151ms/step - loss: 0.1118 - accuracy: 0.9684 - val_loss: 101.6709 - val_accuracy: 0.5306\n",
            "Epoch 5/50\n",
            "12/12 [==============================] - 2s 150ms/step - loss: 0.1907 - accuracy: 0.9526 - val_loss: 54.7931 - val_accuracy: 0.6327\n",
            "Epoch 6/50\n",
            "12/12 [==============================] - 2s 148ms/step - loss: 0.0485 - accuracy: 0.9842 - val_loss: 38.0078 - val_accuracy: 0.6531\n",
            "Epoch 7/50\n",
            "12/12 [==============================] - 2s 146ms/step - loss: 0.1531 - accuracy: 0.9684 - val_loss: 9.5524 - val_accuracy: 0.7347\n",
            "Epoch 8/50\n",
            "12/12 [==============================] - 2s 151ms/step - loss: 1.7600 - accuracy: 0.9000 - val_loss: 39.5041 - val_accuracy: 0.6735\n",
            "Epoch 9/50\n",
            "12/12 [==============================] - 2s 146ms/step - loss: 0.2133 - accuracy: 0.9421 - val_loss: 32.7159 - val_accuracy: 0.6735\n",
            "Epoch 10/50\n",
            "12/12 [==============================] - 2s 147ms/step - loss: 0.2321 - accuracy: 0.9632 - val_loss: 12.1385 - val_accuracy: 0.7143\n",
            "Epoch 11/50\n",
            "12/12 [==============================] - 2s 149ms/step - loss: 0.2724 - accuracy: 0.9526 - val_loss: 15.7276 - val_accuracy: 0.7143\n",
            "Epoch 12/50\n",
            "12/12 [==============================] - 2s 147ms/step - loss: 0.5036 - accuracy: 0.9263 - val_loss: 16.8010 - val_accuracy: 0.6939\n",
            "Epoch 13/50\n",
            "12/12 [==============================] - 2s 147ms/step - loss: 0.1165 - accuracy: 0.9579 - val_loss: 11.3419 - val_accuracy: 0.7143\n",
            "Epoch 14/50\n",
            "12/12 [==============================] - 2s 146ms/step - loss: 0.0645 - accuracy: 0.9789 - val_loss: 4.5279 - val_accuracy: 0.7347\n",
            "Epoch 15/50\n",
            "12/12 [==============================] - 2s 148ms/step - loss: 0.5248 - accuracy: 0.9105 - val_loss: 3.6885 - val_accuracy: 0.8367\n",
            "Epoch 16/50\n",
            "12/12 [==============================] - 2s 150ms/step - loss: 0.0034 - accuracy: 1.0000 - val_loss: 2.2752 - val_accuracy: 0.8571\n",
            "Epoch 17/50\n",
            "12/12 [==============================] - 2s 148ms/step - loss: 0.2164 - accuracy: 0.9474 - val_loss: 0.0032 - val_accuracy: 1.0000\n",
            "Epoch 18/50\n",
            "12/12 [==============================] - 2s 146ms/step - loss: 0.2810 - accuracy: 0.9737 - val_loss: 1.4914 - val_accuracy: 0.9184\n",
            "Epoch 19/50\n",
            "12/12 [==============================] - 2s 147ms/step - loss: 0.0840 - accuracy: 0.9842 - val_loss: 0.1120 - val_accuracy: 0.9184\n",
            "Epoch 20/50\n",
            "12/12 [==============================] - 2s 147ms/step - loss: 0.7060 - accuracy: 0.9105 - val_loss: 6.2760 - val_accuracy: 0.7755\n",
            "Epoch 21/50\n",
            "12/12 [==============================] - 2s 150ms/step - loss: 1.7753 - accuracy: 0.8947 - val_loss: 11.1887 - val_accuracy: 0.7755\n",
            "Epoch 22/50\n",
            "12/12 [==============================] - 2s 148ms/step - loss: 0.0522 - accuracy: 0.9684 - val_loss: 10.6202 - val_accuracy: 0.7755\n",
            "Epoch 23/50\n",
            "12/12 [==============================] - 2s 149ms/step - loss: 0.0288 - accuracy: 0.9789 - val_loss: 9.3542 - val_accuracy: 0.7551\n",
            "Epoch 24/50\n",
            "12/12 [==============================] - 2s 149ms/step - loss: 0.0519 - accuracy: 0.9842 - val_loss: 6.9281 - val_accuracy: 0.6327\n",
            "Epoch 25/50\n",
            "12/12 [==============================] - 2s 149ms/step - loss: 0.3954 - accuracy: 0.9211 - val_loss: 3.7613 - val_accuracy: 0.7551\n",
            "Epoch 26/50\n",
            "12/12 [==============================] - 2s 147ms/step - loss: 0.0138 - accuracy: 1.0000 - val_loss: 2.0619 - val_accuracy: 0.7755\n",
            "Epoch 27/50\n",
            "12/12 [==============================] - 2s 147ms/step - loss: 0.0017 - accuracy: 1.0000 - val_loss: 0.6299 - val_accuracy: 0.8163\n",
            "Epoch 28/50\n",
            "12/12 [==============================] - 2s 153ms/step - loss: 0.2952 - accuracy: 0.8895 - val_loss: 1.2194 - val_accuracy: 0.8571\n",
            "Epoch 29/50\n",
            "12/12 [==============================] - 2s 149ms/step - loss: 0.0638 - accuracy: 0.9789 - val_loss: 6.2151e-04 - val_accuracy: 1.0000\n",
            "Epoch 30/50\n",
            "12/12 [==============================] - 2s 148ms/step - loss: 0.3827 - accuracy: 0.9316 - val_loss: 1.7122 - val_accuracy: 0.9184\n",
            "Epoch 31/50\n",
            "12/12 [==============================] - 2s 147ms/step - loss: 0.0203 - accuracy: 0.9895 - val_loss: 0.0035 - val_accuracy: 1.0000\n",
            "Epoch 32/50\n",
            "12/12 [==============================] - 2s 147ms/step - loss: 0.4071 - accuracy: 0.9579 - val_loss: 3.5372e-06 - val_accuracy: 1.0000\n",
            "Epoch 33/50\n",
            "12/12 [==============================] - 2s 150ms/step - loss: 0.0856 - accuracy: 0.9842 - val_loss: 3.0144 - val_accuracy: 0.8367\n",
            "Epoch 34/50\n",
            "12/12 [==============================] - 2s 153ms/step - loss: 0.1736 - accuracy: 0.9632 - val_loss: 0.0640 - val_accuracy: 0.9796\n",
            "Epoch 35/50\n",
            "12/12 [==============================] - 2s 144ms/step - loss: 0.0396 - accuracy: 0.9842 - val_loss: 7.1426e-04 - val_accuracy: 1.0000\n",
            "Epoch 36/50\n",
            "12/12 [==============================] - 2s 150ms/step - loss: 0.5990 - accuracy: 0.9579 - val_loss: 1.5518 - val_accuracy: 0.8367\n",
            "Epoch 37/50\n",
            "12/12 [==============================] - 2s 150ms/step - loss: 0.0443 - accuracy: 0.9895 - val_loss: 3.5461 - val_accuracy: 0.8367\n",
            "Epoch 38/50\n",
            "12/12 [==============================] - 2s 150ms/step - loss: 0.1097 - accuracy: 0.9684 - val_loss: 3.8328 - val_accuracy: 0.8367\n",
            "Epoch 39/50\n",
            "12/12 [==============================] - 2s 149ms/step - loss: 0.0043 - accuracy: 1.0000 - val_loss: 2.4664 - val_accuracy: 0.8367\n",
            "Epoch 40/50\n",
            "12/12 [==============================] - 2s 149ms/step - loss: 0.0031 - accuracy: 1.0000 - val_loss: 2.0949 - val_accuracy: 0.8367\n",
            "Epoch 41/50\n",
            "12/12 [==============================] - 2s 145ms/step - loss: 0.0835 - accuracy: 0.9895 - val_loss: 2.9745 - val_accuracy: 0.8367\n",
            "Epoch 42/50\n",
            "12/12 [==============================] - 2s 147ms/step - loss: 0.1392 - accuracy: 0.9421 - val_loss: 6.8419 - val_accuracy: 0.6531\n",
            "Epoch 43/50\n",
            "12/12 [==============================] - 2s 145ms/step - loss: 0.5055 - accuracy: 0.9526 - val_loss: 2.4542 - val_accuracy: 0.8367\n",
            "Epoch 44/50\n",
            "12/12 [==============================] - 2s 147ms/step - loss: 0.0769 - accuracy: 0.9789 - val_loss: 1.7529 - val_accuracy: 0.8367\n",
            "Epoch 45/50\n",
            "12/12 [==============================] - 2s 150ms/step - loss: 0.0672 - accuracy: 0.9947 - val_loss: 2.3660 - val_accuracy: 0.8367\n",
            "Epoch 46/50\n",
            "12/12 [==============================] - 2s 147ms/step - loss: 0.0842 - accuracy: 0.9947 - val_loss: 3.7748 - val_accuracy: 0.6122\n",
            "Epoch 47/50\n",
            "12/12 [==============================] - 2s 149ms/step - loss: 0.4716 - accuracy: 0.9316 - val_loss: 0.2931 - val_accuracy: 0.8367\n",
            "Epoch 48/50\n",
            "12/12 [==============================] - 2s 149ms/step - loss: 0.1946 - accuracy: 0.9895 - val_loss: 0.2807 - val_accuracy: 0.8367\n",
            "Epoch 49/50\n",
            "12/12 [==============================] - 2s 151ms/step - loss: 0.0129 - accuracy: 0.9947 - val_loss: 0.1800 - val_accuracy: 0.9184\n",
            "Epoch 50/50\n",
            "12/12 [==============================] - 2s 145ms/step - loss: 0.0370 - accuracy: 0.9947 - val_loss: 4.1252e-05 - val_accuracy: 1.0000\n"
          ]
        }
      ],
      "source": [
        "\n",
        "history = model.fit(\n",
        "                    train_data,\n",
        "                    validation_data = (imgs, labels),\n",
        "                    epochs=50)"
      ]
    },
    {
      "cell_type": "code",
      "execution_count": 34,
      "metadata": {
        "colab": {
          "base_uri": "https://localhost:8080/",
          "height": 573
        },
        "id": "AwrUPSufrnfo",
        "outputId": "fb47d7e4-c11e-47a3-d57a-d83f37a676d5"
      },
      "outputs": [
        {
          "output_type": "display_data",
          "data": {
            "text/plain": [
              "<Figure size 432x288 with 1 Axes>"
            ],
            "image/png": "[encoded data removed]"
          },
          "metadata": {
            "needs_background": "light"
          }
        },
        {
          "output_type": "display_data",
          "data": {
            "text/plain": [
              "<Figure size 432x288 with 1 Axes>"
            ],
            "image/png": "[encoded data removed]"
          },
          "metadata": {
            "needs_background": "light"
          }
        }
      ],
      "source": [
        "\n",
        "\n",
        "import matplotlib.pyplot as plt\n",
        "import seaborn as sns\n",
        "\n",
        "plt.plot(history.history['accuracy'], label=\"Training accuracy\")\n",
        "plt.plot(history.history['val_accuracy'], label=\"Validation accuracy\")\n",
        "plt.title('Training and validation accuracy')\n",
        "plt.xlabel('Epochs')\n",
        "plt.ylabel('Accuracy')\n",
        "plt.legend()\n",
        "plt.show()\n",
        "# Plot using Seaborn\n",
        "\n",
        "plt.plot(history.history['accuracy'], label=\"Training loss\")\n",
        "plt.plot(history.history['val_accuracy'], label=\"Validation loss\")\n",
        "#my_plot = sns.lineplot(data=history[[\"loss\",\"validation_loss\"]])\n",
        "plt.xlabel('Epochs')\n",
        "plt.ylabel('Loss')\n",
        "#plt.legend(labels=[\"Training\", \"Validation\"])\n",
        "plt.title('Training and Validation Loss')\n",
        "plt.show()"
      ]
    },
    {
      "cell_type": "code",
      "execution_count": 35,
      "metadata": {
        "colab": {
          "base_uri": "https://localhost:8080/"
        },
        "id": "jvQG4hqMr3W1",
        "outputId": "ab050edd-93a3-4f4c-bb5e-3dbc86f1817d"
      },
      "outputs": [
        {
          "output_type": "stream",
          "name": "stdout",
          "text": [
            "2/2 [==============================] - 0s 40ms/step - loss: 4.1252e-05 - accuracy: 1.0000\n"
          ]
        },
        {
          "output_type": "execute_result",
          "data": {
            "text/plain": [
              "[4.125196937820874e-05, 1.0]"
            ]
          },
          "metadata": {},
          "execution_count": 35
        }
      ],
      "source": [
        "\n",
        "\n",
        "model.evaluate(imgs, labels)"
      ]
    },
    {
      "cell_type": "code",
      "execution_count": 36,
      "metadata": {
        "id": "JL67G2TPr7Nb"
      },
      "outputs": [],
      "source": [
        "\n",
        "import numpy as np\n",
        "import pandas as pd\n",
        "\n"
      ]
    },
    {
      "cell_type": "code",
      "execution_count": 37,
      "metadata": {
        "id": "2H3dl4ynr-k_"
      },
      "outputs": [],
      "source": [
        "y_pred = model.predict(imgs, verbose=0)\n",
        "\n"
      ]
    },
    {
      "cell_type": "code",
      "execution_count": 38,
      "metadata": {
        "id": "fDXKuH9AsI8r"
      },
      "outputs": [],
      "source": [
        "from sklearn.metrics import confusion_matrix\n",
        "c_matrix = confusion_matrix(np.argmax(labels, axis=1), np.argmax(y_pred, axis=1))\n",
        "\n",
        "import seaborn as sns\n",
        "def confusion_matrix(confusion_matrix, class_names, figsize = (10,7), fontsize=14):\n",
        "    \"\"\"Prints a confusion matrix, as returned by sklearn.metrics.confusion_matrix, as a heatmap.\n",
        "    \n",
        "    Arguments\n",
        "    ---------\n",
        "    confusion_matrix: numpy.ndarray\n",
        "        The numpy.ndarray object returned from a call to sklearn.metrics.confusion_matrix. \n",
        "        Similarly constructed ndarrays can also be used.\n",
        "    class_names: list\n",
        "        An ordered list of class names, in the order they index the given confusion matrix.\n",
        "    figsize: tuple\n",
        "        A 2-long tuple, the first value determining the horizontal size of the ouputted figure,\n",
        "        the second determining the vertical size. Defaults to (10,7).\n",
        "    fontsize: int\n",
        "        Font size for axes labels. Defaults to 14.\n",
        "    \"\"\"\n",
        "    df_cm = pd.DataFrame(\n",
        "        confusion_matrix, index=class_names, columns=class_names, \n",
        "    )\n",
        "    fig = plt.figure(figsize=figsize)\n",
        "    try:\n",
        "        heatmap = sns.heatmap(df_cm, annot=True, fmt=\"d\")\n",
        "    except ValueError:\n",
        "        raise ValueError(\"Confusion matrix values must be integers.\")\n",
        "    heatmap.yaxis.set_ticklabels(heatmap.yaxis.get_ticklabels(), rotation=0, ha='right', fontsize=fontsize)\n",
        "    heatmap.xaxis.set_ticklabels(heatmap.xaxis.get_ticklabels(), rotation=45, ha='right', fontsize=fontsize)\n",
        "    plt.ylabel('True label')\n",
        "    plt.xlabel('Predicted label')"
      ]
    },
    {
      "cell_type": "code",
      "execution_count": 39,
      "metadata": {
        "colab": {
          "base_uri": "https://localhost:8080/",
          "height": 500
        },
        "id": "G0GkiJGasNB3",
        "outputId": "14294588-c8bb-4c17-9b52-adcddc2f689d"
      },
      "outputs": [
        {
          "output_type": "display_data",
          "data": {
            "text/plain": [
              "<Figure size 1080x504 with 2 Axes>"
            ],
            "image/png": "[encoded data removed]"
          },
          "metadata": {
            "needs_background": "light"
          }
        }
      ],
      "source": [
        "class_names = batches.class_indices.keys()\n",
        "confusion_matrix(c_matrix, class_names, figsize = (15,7), fontsize=14)"
      ]
    },
    {
      "cell_type": "code",
      "execution_count": 40,
      "metadata": {
        "colab": {
          "base_uri": "https://localhost:8080/"
        },
        "id": "6xKfQ2rnsTHv",
        "outputId": "9ac8da9a-d870-4eb5-b760-66e3a8c7e0f5"
      },
      "outputs": [
        {
          "output_type": "stream",
          "name": "stdout",
          "text": [
            "              precision    recall  f1-score   support\n",
            "\n",
            "           0       1.00      1.00      1.00        20\n",
            "           1       1.00      1.00      1.00        21\n",
            "           2       1.00      1.00      1.00         8\n",
            "\n",
            "    accuracy                           1.00        49\n",
            "   macro avg       1.00      1.00      1.00        49\n",
            "weighted avg       1.00      1.00      1.00        49\n",
            "\n"
          ]
        }
      ],
      "source": [
        "# From categorical outputs to discrete values\n",
        "\n",
        "y_pred_ = [np.argmax(y) for y in y_pred]\n",
        "y_test_ = [np.argmax(y) for y in labels]\n",
        "\n",
        "from sklearn.metrics import classification_report\n",
        "print(classification_report(y_test_, y_pred_))"
      ]
    },
    {
      "cell_type": "code",
      "execution_count": 40,
      "metadata": {
        "id": "WGXaRtidscvE"
      },
      "outputs": [],
      "source": [
        ""
      ]
    }
  ],
  "metadata": {
    "accelerator": "GPU",
    "colab": {
      "collapsed_sections": [],
      "name": "water_analysis_using_MobileNet.ipynb",
      "provenance": []
    },
    "gpuClass": "standard",
    "kernelspec": {
      "display_name": "Python 3",
      "name": "python3"
    },
    "language_info": {
      "name": "python"
    }
  },
  "nbformat": 4,
  "nbformat_minor": 0
}