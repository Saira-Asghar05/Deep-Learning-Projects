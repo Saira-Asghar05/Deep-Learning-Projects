{
  "nbformat": 4,
  "nbformat_minor": 0,
  "metadata": {
    "colab": {
      "name": "water_analysis_using_DenseNet201.ipynb",
      "provenance": []
    },
    "kernelspec": {
      "name": "python3",
      "display_name": "Python 3"
    },
    "language_info": {
      "name": "python"
    },
    "accelerator": "GPU",
    "gpuClass": "standard"
  },
  "cells": [
    {
      "cell_type": "code",
      "source": [
        ""
      ],
      "metadata": {
        "id": "4M-fOyQyndZm"
      },
      "execution_count": null,
      "outputs": []
    },
    {
      "cell_type": "code",
      "source": [
        ""
      ],
      "metadata": {
        "id": "C662VB6Osuny"
      },
      "execution_count": null,
      "outputs": []
    },
    {
      "cell_type": "code",
      "source": [
        "\n",
        "import os\n",
        "import glob\n",
        "import h5py\n",
        "from PIL import Image\n",
        "from keras.models import Sequential, Model\n",
        "from keras.applications.vgg16 import VGG16, preprocess_input\n",
        "from keras.preprocessing.image import ImageDataGenerator,load_img, img_to_array\n",
        "from keras.models import Sequential\n",
        "from keras.layers import Conv2D, MaxPooling2D, Dense, Dropout, Input, Flatten, SeparableConv2D\n",
        "from keras.layers import GlobalMaxPooling2D\n",
        "from tensorflow.keras.layers import BatchNormalization\n",
        "from keras.models import Model\n",
        "from tensorflow.keras.optimizers import Adam , SGD, RMSprop\n",
        "from keras.callbacks import ModelCheckpoint, Callback, EarlyStopping\n",
        "from tensorflow.keras.utils import to_categorical\n",
        "from keras import backend as K\n",
        "import numpy as np"
      ],
      "metadata": {
        "id": "F5LlJMxNj_A6"
      },
      "execution_count": 2,
      "outputs": []
    },
    {
      "cell_type": "code",
      "source": [
        ""
      ],
      "metadata": {
        "id": "PnLct_aKm-a1"
      },
      "execution_count": 2,
      "outputs": []
    },
    {
      "cell_type": "code",
      "source": [
        "\n",
        "\n",
        "import keras\n",
        "import tensorflow as tf\n",
        "from tensorflow.keras import layers\n",
        "\n",
        "data_augmentation = keras.Sequential(\n",
        " [\n",
        " layers.RandomFlip(\"horizontal\"),\n",
        " layers.RandomRotation(0.1),\n",
        " layers.RandomZoom(0.2),\n",
        " ]\n",
        ")\n",
        "\n",
        "\n",
        "from tensorflow.keras.preprocessing.image import ImageDataGenerator\n",
        "train_datagen = ImageDataGenerator( preprocessing_function= preprocess_input,\n",
        "                                   horizontal_flip = True,\n",
        "                                     rescale=1./255 )\n",
        "\n",
        "\n",
        "validation_datagen = ImageDataGenerator(preprocessing_function= preprocess_input,\n",
        "                                        horizontal_flip = True,\n",
        "                                        rescale=1./255)\n",
        "\n",
        "train_data = train_datagen.flow_from_directory(\n",
        "                    '/content/drive/MyDrive/water analysis/split data/train',\n",
        "                    target_size=(224, 224), batch_size= 16)\n",
        "\n",
        "batches = validation_datagen.flow_from_directory(\n",
        "                    '/content/drive/MyDrive/water analysis/split data/val',\n",
        "                   target_size=(224,224),batch_size= 49)\n",
        "                    "
      ],
      "metadata": {
        "colab": {
          "base_uri": "https://localhost:8080/"
        },
        "id": "bt6EGrBXnBjV",
        "outputId": "e34c3cda-29df-4c45-f923-9197457ddf29"
      },
      "execution_count": 4,
      "outputs": [
        {
          "output_type": "stream",
          "name": "stdout",
          "text": [
            "Found 190 images belonging to 3 classes.\n",
            "Found 49 images belonging to 3 classes.\n"
          ]
        }
      ]
    },
    {
      "cell_type": "code",
      "source": [
        "\n",
        "from PIL import ImageFile\n",
        "ImageFile.LOAD_TRUNCATED_IMAGES = True\n",
        "\n",
        "imgs, labels = next(batches)\n",
        "\n",
        "batches.class_indices"
      ],
      "metadata": {
        "colab": {
          "base_uri": "https://localhost:8080/"
        },
        "id": "oTCpgSIOo2kx",
        "outputId": "693f58a8-7e93-476e-c244-85790bcf0098"
      },
      "execution_count": 5,
      "outputs": [
        {
          "output_type": "execute_result",
          "data": {
            "text/plain": [
              "{'clean water': 0, 'lake': 1, 'pound': 2}"
            ]
          },
          "metadata": {},
          "execution_count": 5
        }
      ]
    },
    {
      "cell_type": "code",
      "source": [
        "\n",
        "categories = {\n",
        "'clean water': 0, 'lake': 1, 'pound': 2\n",
        "}\n",
        "\n",
        "categories"
      ],
      "metadata": {
        "colab": {
          "base_uri": "https://localhost:8080/"
        },
        "id": "6LMYjzMIqVFc",
        "outputId": "b761e54e-2b2c-4427-a6ee-d03dee027aa5"
      },
      "execution_count": 6,
      "outputs": [
        {
          "output_type": "execute_result",
          "data": {
            "text/plain": [
              "{'clean water': 0, 'lake': 1, 'pound': 2}"
            ]
          },
          "metadata": {},
          "execution_count": 6
        }
      ]
    },
    {
      "cell_type": "code",
      "source": [
        "\n",
        "'''from sklearn.model_selection import train_test_split\n",
        "# Train, validation and test split\n",
        "\n",
        "X_val, X_test, y_val, y_test = train_test_split(imgs,labels, test_size=0.2, random_state=7)\n",
        "\n",
        "'''"
      ],
      "metadata": {
        "id": "x_h6EO9Hq_GU",
        "colab": {
          "base_uri": "https://localhost:8080/",
          "height": 54
        },
        "outputId": "30349942-04fe-40c6-9843-2451ae43248b"
      },
      "execution_count": 7,
      "outputs": [
        {
          "output_type": "execute_result",
          "data": {
            "text/plain": [
              "'from sklearn.model_selection import train_test_split\\n# Train, validation and test split\\n\\nX_val, X_test, y_val, y_test = train_test_split(imgs,labels, test_size=0.2, random_state=7)\\n\\n'"
            ],
            "application/vnd.google.colaboratory.intrinsic+json": {
              "type": "string"
            }
          },
          "metadata": {},
          "execution_count": 7
        }
      ]
    },
    {
      "cell_type": "code",
      "source": [
        "\n",
        "\n",
        "'''print(\"*-*-*-*-*-*\")\n",
        "print(\"Train\")\n",
        "print(X_val.shape)\n",
        "print(y_val.shape)\n",
        "\n",
        "print(\"*-*-*-*-*-*\")\n",
        "print(\"Test\")\n",
        "print(X_test.shape)\n",
        "print(y_test.shape)\n",
        "'''"
      ],
      "metadata": {
        "colab": {
          "base_uri": "https://localhost:8080/",
          "height": 54
        },
        "id": "atNGsqRarDcr",
        "outputId": "6594c5cf-8e2c-4b4f-8273-62dbf30ec31d"
      },
      "execution_count": 8,
      "outputs": [
        {
          "output_type": "execute_result",
          "data": {
            "text/plain": [
              "'print(\"*-*-*-*-*-*\")\\nprint(\"Train\")\\nprint(X_val.shape)\\nprint(y_val.shape)\\n\\nprint(\"*-*-*-*-*-*\")\\nprint(\"Test\")\\nprint(X_test.shape)\\nprint(y_test.shape)\\n'"
            ],
            "application/vnd.google.colaboratory.intrinsic+json": {
              "type": "string"
            }
          },
          "metadata": {},
          "execution_count": 8
        }
      ]
    },
    {
      "cell_type": "code",
      "source": [
        "\n",
        "\n",
        "\n",
        "\n",
        "from tensorflow.keras.applications import DenseNet201\n",
        "conv_base = DenseNet201(weights='imagenet',\n",
        "include_top=False,\n",
        "input_shape=(224, 224, 3))"
      ],
      "metadata": {
        "id": "y9lxhAohrF1k",
        "colab": {
          "base_uri": "https://localhost:8080/"
        },
        "outputId": "80a18c9a-11f3-47cb-f8be-afbcffa8e070"
      },
      "execution_count": 9,
      "outputs": [
        {
          "output_type": "stream",
          "name": "stdout",
          "text": [
            "Downloading data from https://storage.googleapis.com/tensorflow/keras-applications/densenet/densenet201_weights_tf_dim_ordering_tf_kernels_notop.h5\n",
            "74842112/74836368 [==============================] - 0s 0us/step\n",
            "74850304/74836368 [==============================] - 0s 0us/step\n"
          ]
        }
      ]
    },
    {
      "cell_type": "code",
      "source": [
        "from keras import models\n",
        "from keras import layers\n",
        "model = models.Sequential()\n",
        "model.add(conv_base)\n",
        "#model.add(data_augmentation)\n",
        "model.add(Dropout(0.25))\n",
        "\n",
        "model.add(layers.Flatten())\n",
        "model.add(layers.Dense(512, activation='relu'))\n",
        "model.add(layers.Dense(256, activation='relu'))\n",
        "model.add(layers.Dense(128, activation='relu'))\n",
        "model.add(Dropout(0.25))\n",
        "model.add(layers.Dense(3, activation='softmax'))"
      ],
      "metadata": {
        "id": "qkyh8CICrVA5"
      },
      "execution_count": 10,
      "outputs": []
    },
    {
      "cell_type": "code",
      "source": [
        "\n",
        "\n",
        "\n",
        "model.summary()"
      ],
      "metadata": {
        "colab": {
          "base_uri": "https://localhost:8080/"
        },
        "id": "37kbxZVHrbiy",
        "outputId": "df3d25a4-d0c2-4cbd-f9cd-7e2ec573fc67"
      },
      "execution_count": 11,
      "outputs": [
        {
          "output_type": "stream",
          "name": "stdout",
          "text": [
            "Model: \"sequential_2\"\n",
            "_________________________________________________________________\n",
            " Layer (type)                Output Shape              Param #   \n",
            "=================================================================\n",
            " densenet201 (Functional)    (None, 7, 7, 1920)        18321984  \n",
            "                                                                 \n",
            " dropout (Dropout)           (None, 7, 7, 1920)        0         \n",
            "                                                                 \n",
            " flatten (Flatten)           (None, 94080)             0         \n",
            "                                                                 \n",
            " dense (Dense)               (None, 512)               48169472  \n",
            "                                                                 \n",
            " dense_1 (Dense)             (None, 256)               131328    \n",
            "                                                                 \n",
            " dense_2 (Dense)             (None, 128)               32896     \n",
            "                                                                 \n",
            " dropout_1 (Dropout)         (None, 128)               0         \n",
            "                                                                 \n",
            " dense_3 (Dense)             (None, 3)                 387       \n",
            "                                                                 \n",
            "=================================================================\n",
            "Total params: 66,656,067\n",
            "Trainable params: 66,427,011\n",
            "Non-trainable params: 229,056\n",
            "_________________________________________________________________\n"
          ]
        }
      ]
    },
    {
      "cell_type": "code",
      "source": [
        "\n",
        "\n",
        "model.compile(optimizer=\"rmsprop\",\n",
        " loss=\"categorical_crossentropy\",\n",
        " metrics=[\"accuracy\"])"
      ],
      "metadata": {
        "id": "40tKnK5Trg68"
      },
      "execution_count": 12,
      "outputs": []
    },
    {
      "cell_type": "code",
      "source": [
        "history = model.fit(\n",
        "                    train_data,\n",
        "                    validation_data = (imgs, labels),\n",
        "                    epochs=50)"
      ],
      "metadata": {
        "colab": {
          "base_uri": "https://localhost:8080/"
        },
        "id": "Icf14IqjrjwI",
        "outputId": "6fb667a6-bf35-44cb-be6d-4157e5385a0e"
      },
      "execution_count": 13,
      "outputs": [
        {
          "output_type": "stream",
          "name": "stdout",
          "text": [
            "Epoch 1/50\n",
            "12/12 [==============================] - 88s 3s/step - loss: 22.5836 - accuracy: 0.4737 - val_loss: 2360510.5000 - val_accuracy: 0.4082\n",
            "Epoch 2/50\n",
            "12/12 [==============================] - 4s 359ms/step - loss: 0.4366 - accuracy: 0.8053 - val_loss: 27985.8105 - val_accuracy: 0.4082\n",
            "Epoch 3/50\n",
            "12/12 [==============================] - 5s 407ms/step - loss: 0.3018 - accuracy: 0.9053 - val_loss: 7748.2993 - val_accuracy: 0.4082\n",
            "Epoch 4/50\n",
            "12/12 [==============================] - 4s 357ms/step - loss: 0.6965 - accuracy: 0.8632 - val_loss: 7915.3745 - val_accuracy: 0.4082\n",
            "Epoch 5/50\n",
            "12/12 [==============================] - 4s 357ms/step - loss: 0.2319 - accuracy: 0.9684 - val_loss: 56806.0820 - val_accuracy: 0.3878\n",
            "Epoch 6/50\n",
            "12/12 [==============================] - 4s 350ms/step - loss: 3.2781 - accuracy: 0.8421 - val_loss: 5375.8774 - val_accuracy: 0.4082\n",
            "Epoch 7/50\n",
            "12/12 [==============================] - 4s 351ms/step - loss: 9.4232 - accuracy: 0.7053 - val_loss: 2061632.3750 - val_accuracy: 0.4286\n",
            "Epoch 8/50\n",
            "12/12 [==============================] - 4s 352ms/step - loss: 5.0518 - accuracy: 0.6158 - val_loss: 1236229.0000 - val_accuracy: 0.4286\n",
            "Epoch 9/50\n",
            "12/12 [==============================] - 4s 354ms/step - loss: 3.3991 - accuracy: 0.7474 - val_loss: 2769.5291 - val_accuracy: 0.1633\n",
            "Epoch 10/50\n",
            "12/12 [==============================] - 4s 361ms/step - loss: 2.4415 - accuracy: 0.6737 - val_loss: 426395.3438 - val_accuracy: 0.4082\n",
            "Epoch 11/50\n",
            "12/12 [==============================] - 4s 356ms/step - loss: 2.8199 - accuracy: 0.7632 - val_loss: 676363.9375 - val_accuracy: 0.4082\n",
            "Epoch 12/50\n",
            "12/12 [==============================] - 4s 356ms/step - loss: 1.2307 - accuracy: 0.8263 - val_loss: 452047.8438 - val_accuracy: 0.4082\n",
            "Epoch 13/50\n",
            "12/12 [==============================] - 4s 357ms/step - loss: 0.8306 - accuracy: 0.8789 - val_loss: 4553.5630 - val_accuracy: 0.4082\n",
            "Epoch 14/50\n",
            "12/12 [==============================] - 4s 363ms/step - loss: 0.4163 - accuracy: 0.8632 - val_loss: 11076.8574 - val_accuracy: 0.4490\n",
            "Epoch 15/50\n",
            "12/12 [==============================] - 4s 361ms/step - loss: 0.0923 - accuracy: 0.9684 - val_loss: 4815.6528 - val_accuracy: 0.5714\n",
            "Epoch 16/50\n",
            "12/12 [==============================] - 4s 357ms/step - loss: 0.1759 - accuracy: 0.9368 - val_loss: 172.5052 - val_accuracy: 0.5918\n",
            "Epoch 17/50\n",
            "12/12 [==============================] - 4s 357ms/step - loss: 2.4146 - accuracy: 0.7895 - val_loss: 6835.3354 - val_accuracy: 0.4286\n",
            "Epoch 18/50\n",
            "12/12 [==============================] - 4s 354ms/step - loss: 0.2679 - accuracy: 0.9368 - val_loss: 754.9761 - val_accuracy: 0.4286\n",
            "Epoch 19/50\n",
            "12/12 [==============================] - 4s 355ms/step - loss: 2.4858 - accuracy: 0.8105 - val_loss: 281.0153 - val_accuracy: 0.5918\n",
            "Epoch 20/50\n",
            "12/12 [==============================] - 4s 356ms/step - loss: 0.2665 - accuracy: 0.9316 - val_loss: 2742.6636 - val_accuracy: 0.5510\n",
            "Epoch 21/50\n",
            "12/12 [==============================] - 4s 355ms/step - loss: 0.4503 - accuracy: 0.9105 - val_loss: 27.7656 - val_accuracy: 0.5102\n",
            "Epoch 22/50\n",
            "12/12 [==============================] - 4s 354ms/step - loss: 0.0495 - accuracy: 0.9737 - val_loss: 26.1553 - val_accuracy: 0.6735\n",
            "Epoch 23/50\n",
            "12/12 [==============================] - 4s 359ms/step - loss: 0.4786 - accuracy: 0.9105 - val_loss: 2324.4426 - val_accuracy: 0.5102\n",
            "Epoch 24/50\n",
            "12/12 [==============================] - 4s 359ms/step - loss: 0.0761 - accuracy: 0.9684 - val_loss: 804.6761 - val_accuracy: 0.5510\n",
            "Epoch 25/50\n",
            "12/12 [==============================] - 4s 353ms/step - loss: 0.1417 - accuracy: 0.9842 - val_loss: 45.5885 - val_accuracy: 0.6327\n",
            "Epoch 26/50\n",
            "12/12 [==============================] - 4s 354ms/step - loss: 0.9535 - accuracy: 0.9368 - val_loss: 666.2399 - val_accuracy: 0.4082\n",
            "Epoch 27/50\n",
            "12/12 [==============================] - 4s 361ms/step - loss: 1.2822 - accuracy: 0.8842 - val_loss: 769.0237 - val_accuracy: 0.4082\n",
            "Epoch 28/50\n",
            "12/12 [==============================] - 4s 366ms/step - loss: 0.2508 - accuracy: 0.9526 - val_loss: 1353.0449 - val_accuracy: 0.2449\n",
            "Epoch 29/50\n",
            "12/12 [==============================] - 4s 356ms/step - loss: 0.7018 - accuracy: 0.9105 - val_loss: 22321.2246 - val_accuracy: 0.4898\n",
            "Epoch 30/50\n",
            "12/12 [==============================] - 4s 361ms/step - loss: 0.6000 - accuracy: 0.9737 - val_loss: 14778.5498 - val_accuracy: 0.5510\n",
            "Epoch 31/50\n",
            "12/12 [==============================] - 4s 362ms/step - loss: 0.3037 - accuracy: 0.9474 - val_loss: 5724.3569 - val_accuracy: 0.5510\n",
            "Epoch 32/50\n",
            "12/12 [==============================] - 4s 357ms/step - loss: 0.0734 - accuracy: 0.9737 - val_loss: 1507.4762 - val_accuracy: 0.5510\n",
            "Epoch 33/50\n",
            "12/12 [==============================] - 4s 359ms/step - loss: 0.0256 - accuracy: 0.9895 - val_loss: 433.8191 - val_accuracy: 0.6939\n",
            "Epoch 34/50\n",
            "12/12 [==============================] - 4s 356ms/step - loss: 5.8215e-04 - accuracy: 1.0000 - val_loss: 111.6536 - val_accuracy: 0.7959\n",
            "Epoch 35/50\n",
            "12/12 [==============================] - 4s 355ms/step - loss: 0.1560 - accuracy: 0.9895 - val_loss: 35.2260 - val_accuracy: 0.7755\n",
            "Epoch 36/50\n",
            "12/12 [==============================] - 4s 355ms/step - loss: 1.0604 - accuracy: 0.8368 - val_loss: 109137.0234 - val_accuracy: 0.4286\n",
            "Epoch 37/50\n",
            "12/12 [==============================] - 4s 356ms/step - loss: 0.4380 - accuracy: 0.9684 - val_loss: 10187.2744 - val_accuracy: 0.4082\n",
            "Epoch 38/50\n",
            "12/12 [==============================] - 4s 355ms/step - loss: 0.2099 - accuracy: 0.9474 - val_loss: 208.4367 - val_accuracy: 0.5102\n",
            "Epoch 39/50\n",
            "12/12 [==============================] - 4s 354ms/step - loss: 0.0101 - accuracy: 1.0000 - val_loss: 294.5497 - val_accuracy: 0.5306\n",
            "Epoch 40/50\n",
            "12/12 [==============================] - 4s 360ms/step - loss: 0.2683 - accuracy: 0.9000 - val_loss: 59.4713 - val_accuracy: 0.6122\n",
            "Epoch 41/50\n",
            "12/12 [==============================] - 4s 354ms/step - loss: 0.1670 - accuracy: 0.9526 - val_loss: 2.2634 - val_accuracy: 0.8776\n",
            "Epoch 42/50\n",
            "12/12 [==============================] - 4s 361ms/step - loss: 0.0414 - accuracy: 0.9842 - val_loss: 55.5513 - val_accuracy: 0.8163\n",
            "Epoch 43/50\n",
            "12/12 [==============================] - 4s 358ms/step - loss: 0.8235 - accuracy: 0.9632 - val_loss: 330.6283 - val_accuracy: 0.4898\n",
            "Epoch 44/50\n",
            "12/12 [==============================] - 4s 355ms/step - loss: 0.1322 - accuracy: 0.9684 - val_loss: 99.0832 - val_accuracy: 0.7347\n",
            "Epoch 45/50\n",
            "12/12 [==============================] - 4s 354ms/step - loss: 0.0385 - accuracy: 0.9842 - val_loss: 157.5427 - val_accuracy: 0.6939\n",
            "Epoch 46/50\n",
            "12/12 [==============================] - 4s 353ms/step - loss: 0.0359 - accuracy: 0.9842 - val_loss: 103.7012 - val_accuracy: 0.8776\n",
            "Epoch 47/50\n",
            "12/12 [==============================] - 4s 353ms/step - loss: 0.2064 - accuracy: 0.9684 - val_loss: 2758.0986 - val_accuracy: 0.5714\n",
            "Epoch 48/50\n",
            "12/12 [==============================] - 4s 354ms/step - loss: 0.0109 - accuracy: 0.9947 - val_loss: 101.6672 - val_accuracy: 0.7143\n",
            "Epoch 49/50\n",
            "12/12 [==============================] - 4s 353ms/step - loss: 0.1271 - accuracy: 0.9684 - val_loss: 28.1808 - val_accuracy: 0.8367\n",
            "Epoch 50/50\n",
            "12/12 [==============================] - 4s 356ms/step - loss: 0.0018 - accuracy: 1.0000 - val_loss: 0.7283 - val_accuracy: 0.9184\n"
          ]
        }
      ]
    },
    {
      "cell_type": "code",
      "source": [
        "\n",
        "\n",
        "import matplotlib.pyplot as plt\n",
        "import seaborn as sns\n",
        "\n",
        "plt.plot(history.history['accuracy'], label=\"Training accuracy\")\n",
        "plt.plot(history.history['val_accuracy'], label=\"Validation accuracy\")\n",
        "plt.title('Training and validation accuracy')\n",
        "plt.xlabel('Epochs')\n",
        "plt.ylabel('Accuracy')\n",
        "plt.legend()\n",
        "plt.show()\n",
        "# Plot using Seaborn\n",
        "\n",
        "plt.plot(history.history['accuracy'], label=\"Training loss\")\n",
        "plt.plot(history.history['val_accuracy'], label=\"Validation loss\")\n",
        "#my_plot = sns.lineplot(data=history[[\"loss\",\"validation_loss\"]])\n",
        "plt.xlabel('Epochs')\n",
        "plt.ylabel('Loss')\n",
        "#plt.legend(labels=[\"Training\", \"Validation\"])\n",
        "plt.title('Training and Validation Loss')\n",
        "plt.show()"
      ],
      "metadata": {
        "colab": {
          "base_uri": "https://localhost:8080/",
          "height": 573
        },
        "id": "AwrUPSufrnfo",
        "outputId": "1702eaaa-fbf4-4bc2-8db8-7e6f34a83511"
      },
      "execution_count": 16,
      "outputs": [
        {
          "output_type": "display_data",
          "data": {
            "text/plain": [
              "<Figure size 432x288 with 1 Axes>"
            ],
            "image/png": "[encoded data removed]"
          },
          "metadata": {
            "needs_background": "light"
          }
        },
        {
          "output_type": "display_data",
          "data": {
            "text/plain": [
              "<Figure size 432x288 with 1 Axes>"
            ],
            "image/png": "[encoded data removed]"
          },
          "metadata": {
            "needs_background": "light"
          }
        }
      ]
    },
    {
      "cell_type": "code",
      "source": [
        "\n",
        "\n",
        "model.evaluate(imgs, labels)"
      ],
      "metadata": {
        "colab": {
          "base_uri": "https://localhost:8080/"
        },
        "id": "jvQG4hqMr3W1",
        "outputId": "5d5884dd-e56b-429d-cd32-029e59dafa3e"
      },
      "execution_count": 17,
      "outputs": [
        {
          "output_type": "stream",
          "name": "stdout",
          "text": [
            "2/2 [==============================] - 0s 94ms/step - loss: 0.7283 - accuracy: 0.9184\n"
          ]
        },
        {
          "output_type": "execute_result",
          "data": {
            "text/plain": [
              "[0.7283045053482056, 0.918367326259613]"
            ]
          },
          "metadata": {},
          "execution_count": 17
        }
      ]
    },
    {
      "cell_type": "code",
      "source": [
        "\n",
        "import numpy as np\n",
        "import pandas as pd\n",
        "\n"
      ],
      "metadata": {
        "id": "JL67G2TPr7Nb"
      },
      "execution_count": 18,
      "outputs": []
    },
    {
      "cell_type": "code",
      "source": [
        "y_pred = model.predict(imgs, verbose=0)\n",
        "\n"
      ],
      "metadata": {
        "id": "2H3dl4ynr-k_"
      },
      "execution_count": 19,
      "outputs": []
    },
    {
      "cell_type": "code",
      "source": [
        "from sklearn.metrics import confusion_matrix\n",
        "c_matrix = confusion_matrix(np.argmax(labels, axis=1), np.argmax(y_pred, axis=1))\n",
        "\n",
        "import seaborn as sns\n",
        "def confusion_matrix(confusion_matrix, class_names, figsize = (10,7), fontsize=14):\n",
        "    \"\"\"Prints a confusion matrix, as returned by sklearn.metrics.confusion_matrix, as a heatmap.\n",
        "    \n",
        "    Arguments\n",
        "    ---------\n",
        "    confusion_matrix: numpy.ndarray\n",
        "        The numpy.ndarray object returned from a call to sklearn.metrics.confusion_matrix. \n",
        "        Similarly constructed ndarrays can also be used.\n",
        "    class_names: list\n",
        "        An ordered list of class names, in the order they index the given confusion matrix.\n",
        "    figsize: tuple\n",
        "        A 2-long tuple, the first value determining the horizontal size of the ouputted figure,\n",
        "        the second determining the vertical size. Defaults to (10,7).\n",
        "    fontsize: int\n",
        "        Font size for axes labels. Defaults to 14.\n",
        "    \"\"\"\n",
        "    df_cm = pd.DataFrame(\n",
        "        confusion_matrix, index=class_names, columns=class_names, \n",
        "    )\n",
        "    fig = plt.figure(figsize=figsize)\n",
        "    try:\n",
        "        heatmap = sns.heatmap(df_cm, annot=True, fmt=\"d\")\n",
        "    except ValueError:\n",
        "        raise ValueError(\"Confusion matrix values must be integers.\")\n",
        "    heatmap.yaxis.set_ticklabels(heatmap.yaxis.get_ticklabels(), rotation=0, ha='right', fontsize=fontsize)\n",
        "    heatmap.xaxis.set_ticklabels(heatmap.xaxis.get_ticklabels(), rotation=45, ha='right', fontsize=fontsize)\n",
        "    plt.ylabel('True label')\n",
        "    plt.xlabel('Predicted label')"
      ],
      "metadata": {
        "id": "fDXKuH9AsI8r"
      },
      "execution_count": 20,
      "outputs": []
    },
    {
      "cell_type": "code",
      "source": [
        "class_names = batches.class_indices.keys()\n",
        "confusion_matrix(c_matrix, class_names, figsize = (15,7), fontsize=14)"
      ],
      "metadata": {
        "colab": {
          "base_uri": "https://localhost:8080/",
          "height": 504
        },
        "id": "G0GkiJGasNB3",
        "outputId": "7bda07dc-dcd1-4978-f12d-4ef7c652644c"
      },
      "execution_count": 21,
      "outputs": [
        {
          "output_type": "display_data",
          "data": {
            "text/plain": [
              "<Figure size 1080x504 with 2 Axes>"
            ],
            "image/png": "[encoded data removed]"
          },
          "metadata": {
            "needs_background": "light"
          }
        }
      ]
    },
    {
      "cell_type": "code",
      "source": [
        "# From categorical outputs to discrete values\n",
        "\n",
        "y_pred_ = [np.argmax(y) for y in y_pred]\n",
        "y_test_ = [np.argmax(y) for y in labels]\n",
        "\n",
        "from sklearn.metrics import classification_report\n",
        "print(classification_report(y_test_, y_pred_))"
      ],
      "metadata": {
        "colab": {
          "base_uri": "https://localhost:8080/"
        },
        "id": "6xKfQ2rnsTHv",
        "outputId": "9224ad69-1895-4645-dcd9-3a676aef460a"
      },
      "execution_count": 22,
      "outputs": [
        {
          "output_type": "stream",
          "name": "stdout",
          "text": [
            "              precision    recall  f1-score   support\n",
            "\n",
            "           0       0.91      1.00      0.95        20\n",
            "           1       0.90      0.90      0.90        21\n",
            "           2       1.00      0.75      0.86         8\n",
            "\n",
            "    accuracy                           0.92        49\n",
            "   macro avg       0.94      0.88      0.90        49\n",
            "weighted avg       0.92      0.92      0.92        49\n",
            "\n"
          ]
        }
      ]
    },
    {
      "cell_type": "code",
      "source": [
        ""
      ],
      "metadata": {
        "id": "WGXaRtidscvE"
      },
      "execution_count": 22,
      "outputs": []
    }
  ]
}