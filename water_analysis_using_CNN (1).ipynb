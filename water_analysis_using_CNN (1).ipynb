{
 "cells": [
  {
   "cell_type": "markdown",
   "metadata": {},
   "source": [
    "# splitting data into training and validation"
   ]
  },
  {
   "cell_type": "code",
   "execution_count": null,
   "metadata": {},
   "outputs": [],
   "source": []
  },
  {
   "cell_type": "code",
   "execution_count": 3,
   "metadata": {
    "id": "xVKGB0Vcj3bu"
   },
   "outputs": [],
   "source": [
    "import splitfolders\n",
    "\n",
    "splitfolders.ratio('/content/drive/MyDrive/soil analysis', output=\"split data\", seed=1337, ratio=(.7, 0.3,)) \n"
   ]
  },
  {
   "cell_type": "code",
   "execution_count": 3,
   "metadata": {
    "id": "C662VB6Osuny"
   },
   "outputs": [],
   "source": []
  },
  {
   "cell_type": "markdown",
   "metadata": {},
   "source": [
    "libraries for Computing:\n",
    "- \n",
    "- Tensorflow / keras: used for training the model \n",
    "- PIL :               used for image processing\n",
    "- Numpy:              used for numerical computation\n",
    "- Os   :              used for joining the path"
   ]
  },
  {
   "cell_type": "code",
   "execution_count": null,
   "metadata": {},
   "outputs": [],
   "source": []
  },
  {
   "cell_type": "code",
   "execution_count": 4,
   "metadata": {
    "id": "F5LlJMxNj_A6"
   },
   "outputs": [],
   "source": [
    "\n",
    "import os\n",
    "import glob\n",
    "import h5py\n",
    "from PIL import Image\n",
    "from keras.models import Sequential, Model\n",
    "from keras.applications.vgg16 import VGG16, preprocess_input\n",
    "from keras.preprocessing.image import ImageDataGenerator,load_img, img_to_array\n",
    "from keras.models import Sequential\n",
    "from keras.layers import Conv2D, MaxPooling2D, Dense, Dropout, Input, Flatten, SeparableConv2D\n",
    "from keras.layers import GlobalMaxPooling2D\n",
    "from tensorflow.keras.layers import BatchNormalization\n",
    "from keras.models import Model\n",
    "from tensorflow.keras.optimizers import Adam , SGD, RMSprop\n",
    "from keras.callbacks import ModelCheckpoint, Callback, EarlyStopping\n",
    "from tensorflow.keras.utils import to_categorical\n",
    "from keras import backend as K\n",
    "import numpy as np"
   ]
  },
  {
   "cell_type": "code",
   "execution_count": 4,
   "metadata": {
    "id": "PnLct_aKm-a1"
   },
   "outputs": [],
   "source": []
  },
  {
   "cell_type": "markdown",
   "metadata": {},
   "source": [
    "Loading Data\n",
    "-\n",
    "- Uaing imagedatagenerator for reading/loading images from directory\n",
    "- batch_size used for how many images read togather\n",
    "- Rescal meaning image into 0,1\n",
    "- target size mean images dimension(height, width,channel)\n",
    "- 190 images for training and 39 images for testing"
   ]
  },
  {
   "cell_type": "code",
   "execution_count": null,
   "metadata": {},
   "outputs": [],
   "source": []
  },
  {
   "cell_type": "code",
   "execution_count": 6,
   "metadata": {
    "colab": {
     "base_uri": "https://localhost:8080/"
    },
    "id": "bt6EGrBXnBjV",
    "outputId": "b355c15f-decb-4712-b2be-b2a4d6b884dd"
   },
   "outputs": [
    {
     "name": "stdout",
     "output_type": "stream",
     "text": [
      "Found 190 images belonging to 3 classes.\n",
      "Found 49 images belonging to 3 classes.\n"
     ]
    }
   ],
   "source": [
    "\n",
    "\n",
    "import keras\n",
    "import tensorflow as tf\n",
    "from tensorflow.keras import layers\n",
    "\n",
    "\n",
    "from tensorflow.keras.preprocessing.image import ImageDataGenerator\n",
    "train_datagen = ImageDataGenerator( preprocessing_function= preprocess_input,\n",
    "                                   horizontal_flip = True,\n",
    "                                     rescale=1./255 )\n",
    "\n",
    "\n",
    "validation_datagen = ImageDataGenerator(preprocessing_function= preprocess_input,\n",
    "                                        horizontal_flip = True,\n",
    "                                        rescale=1./255)\n",
    "\n",
    "train_data = train_datagen.flow_from_directory(\n",
    "                    '/content/drive/MyDrive/water analysis/split data/train',\n",
    "                    target_size=(224, 224), batch_size= 16)\n",
    "\n",
    "batches = validation_datagen.flow_from_directory(\n",
    "                    '/content/drive/MyDrive/water analysis/split data/val',\n",
    "                   target_size=(224,224),batch_size= 49)\n",
    "                    "
   ]
  },
  {
   "cell_type": "code",
   "execution_count": null,
   "metadata": {},
   "outputs": [],
   "source": []
  },
  {
   "cell_type": "markdown",
   "metadata": {},
   "source": [
    "Creating labels\n",
    "-\n",
    "- sperate images and labels from dataset\n",
    "- checks the dataset categories indexes"
   ]
  },
  {
   "cell_type": "code",
   "execution_count": null,
   "metadata": {},
   "outputs": [],
   "source": []
  },
  {
   "cell_type": "code",
   "execution_count": 7,
   "metadata": {
    "colab": {
     "base_uri": "https://localhost:8080/"
    },
    "id": "oTCpgSIOo2kx",
    "outputId": "2872ff8b-7be0-4e02-8fcd-30c6df46c463"
   },
   "outputs": [
    {
     "data": {
      "text/plain": [
       "{'clean water': 0, 'lake': 1, 'pound': 2}"
      ]
     },
     "execution_count": 7,
     "metadata": {},
     "output_type": "execute_result"
    }
   ],
   "source": [
    "\n",
    "from PIL import ImageFile\n",
    "ImageFile.LOAD_TRUNCATED_IMAGES = True\n",
    "\n",
    "imgs, labels = next(batches)\n",
    "\n",
    "batches.class_indices"
   ]
  },
  {
   "cell_type": "code",
   "execution_count": 8,
   "metadata": {
    "colab": {
     "base_uri": "https://localhost:8080/"
    },
    "id": "6LMYjzMIqVFc",
    "outputId": "208bffab-08a0-4818-a870-c9a42c451e18"
   },
   "outputs": [
    {
     "data": {
      "text/plain": [
       "{'clean water': 0, 'lake': 1, 'pound': 2}"
      ]
     },
     "execution_count": 8,
     "metadata": {},
     "output_type": "execute_result"
    }
   ],
   "source": [
    "\n",
    "\n",
    "\n",
    "\n",
    "\n",
    "categories = {\n",
    "'clean water': 0, 'lake': 1, 'pound': 2\n",
    "}\n",
    "\n",
    "categories"
   ]
  },
  {
   "cell_type": "code",
   "execution_count": null,
   "metadata": {},
   "outputs": [],
   "source": []
  },
  {
   "cell_type": "markdown",
   "metadata": {},
   "source": [
    "Building CNN Model\n",
    "- \n",
    "- images size 224,224,3\n",
    "- activation 'relu'\n",
    "- Convent2d, maxpooling, batchnormalization\n",
    "- Dense layers, flatten layers\n",
    "- 'softmax'"
   ]
  },
  {
   "cell_type": "code",
   "execution_count": null,
   "metadata": {},
   "outputs": [],
   "source": []
  },
  {
   "cell_type": "code",
   "execution_count": 11,
   "metadata": {
    "id": "A7EswTpc0yTH"
   },
   "outputs": [],
   "source": [
    "import tensorflow as tf\n",
    "from tensorflow import keras\n",
    "from keras import layers\n",
    "inputs = keras.Input(shape=(224, 224, 3))\n",
    "x = layers.Conv2D(filters=16, kernel_size=3, activation=\"relu\")(inputs)\n",
    "x = layers.Conv2D(filters=16, kernel_size=3, activation=\"relu\")(x)\n",
    "\n",
    "x = layers.MaxPooling2D(pool_size=2)(x)\n",
    "x = layers.Conv2D(filters=32, kernel_size=3, activation=\"relu\")(x)\n",
    "x = layers.Conv2D(filters=32, kernel_size=3, activation=\"relu\")(x)\n",
    "\n",
    "x = layers.MaxPooling2D(pool_size=2)(x)\n",
    "x = layers.Conv2D(filters=64, kernel_size=3, activation=\"relu\")(x)\n",
    "x = layers.Conv2D(filters=64, kernel_size=3, activation=\"relu\")(x)\n",
    "\n",
    "x = layers.MaxPooling2D(pool_size=2)(x)\n",
    "x = layers.Conv2D(filters=128, kernel_size=3, activation=\"relu\")(x)\n",
    "x = layers.Conv2D(filters=128, kernel_size=3, activation=\"relu\")(x)\n",
    "\n",
    "x = layers.MaxPooling2D(pool_size=2)(x)\n",
    "x = layers.Conv2D(filters=64, kernel_size=3, activation=\"relu\")(x)\n",
    "x = layers.Conv2D(filters=64, kernel_size=3, activation=\"relu\")(x)\n",
    "x = layers.MaxPooling2D(pool_size=2)(x)\n",
    "\n",
    "\n",
    "x = layers.Flatten()(x)\n",
    "outputs = layers.Dense(3, activation=\"softmax\")(x)\n",
    "model = keras.Model(inputs=inputs, outputs=outputs)"
   ]
  },
  {
   "cell_type": "code",
   "execution_count": 12,
   "metadata": {
    "colab": {
     "base_uri": "https://localhost:8080/"
    },
    "id": "37kbxZVHrbiy",
    "outputId": "139e05c4-5f2f-4f2d-dc94-2a24310e8dc4"
   },
   "outputs": [
    {
     "name": "stdout",
     "output_type": "stream",
     "text": [
      "Model: \"model\"\n",
      "_________________________________________________________________\n",
      " Layer (type)                Output Shape              Param #   \n",
      "=================================================================\n",
      " input_1 (InputLayer)        [(None, 224, 224, 3)]     0         \n",
      "                                                                 \n",
      " conv2d (Conv2D)             (None, 222, 222, 16)      448       \n",
      "                                                                 \n",
      " conv2d_1 (Conv2D)           (None, 220, 220, 16)      2320      \n",
      "                                                                 \n",
      " max_pooling2d (MaxPooling2D  (None, 110, 110, 16)     0         \n",
      " )                                                               \n",
      "                                                                 \n",
      " conv2d_2 (Conv2D)           (None, 108, 108, 32)      4640      \n",
      "                                                                 \n",
      " conv2d_3 (Conv2D)           (None, 106, 106, 32)      9248      \n",
      "                                                                 \n",
      " max_pooling2d_1 (MaxPooling  (None, 53, 53, 32)       0         \n",
      " 2D)                                                             \n",
      "                                                                 \n",
      " conv2d_4 (Conv2D)           (None, 51, 51, 64)        18496     \n",
      "                                                                 \n",
      " conv2d_5 (Conv2D)           (None, 49, 49, 64)        36928     \n",
      "                                                                 \n",
      " max_pooling2d_2 (MaxPooling  (None, 24, 24, 64)       0         \n",
      " 2D)                                                             \n",
      "                                                                 \n",
      " conv2d_6 (Conv2D)           (None, 22, 22, 128)       73856     \n",
      "                                                                 \n",
      " conv2d_7 (Conv2D)           (None, 20, 20, 128)       147584    \n",
      "                                                                 \n",
      " max_pooling2d_3 (MaxPooling  (None, 10, 10, 128)      0         \n",
      " 2D)                                                             \n",
      "                                                                 \n",
      " conv2d_8 (Conv2D)           (None, 8, 8, 64)          73792     \n",
      "                                                                 \n",
      " conv2d_9 (Conv2D)           (None, 6, 6, 64)          36928     \n",
      "                                                                 \n",
      " max_pooling2d_4 (MaxPooling  (None, 3, 3, 64)         0         \n",
      " 2D)                                                             \n",
      "                                                                 \n",
      " flatten (Flatten)           (None, 576)               0         \n",
      "                                                                 \n",
      " dense (Dense)               (None, 3)                 1731      \n",
      "                                                                 \n",
      "=================================================================\n",
      "Total params: 405,971\n",
      "Trainable params: 405,971\n",
      "Non-trainable params: 0\n",
      "_________________________________________________________________\n"
     ]
    }
   ],
   "source": [
    "model.summary()"
   ]
  },
  {
   "cell_type": "code",
   "execution_count": null,
   "metadata": {},
   "outputs": [],
   "source": []
  },
  {
   "cell_type": "markdown",
   "metadata": {},
   "source": [
    "Compiling the model\n",
    "-\n",
    "- 'rmsprop' is optimizer\n",
    "- loss used categorical crossentropy because problems is not binary\n",
    "- Evaluation matrix is 'Accuracy'"
   ]
  },
  {
   "cell_type": "code",
   "execution_count": 13,
   "metadata": {
    "id": "40tKnK5Trg68"
   },
   "outputs": [],
   "source": [
    "\n",
    "\n",
    "model.compile(optimizer=\"rmsprop\",\n",
    " loss=\"categorical_crossentropy\",\n",
    " metrics=[\"accuracy\"])"
   ]
  },
  {
   "cell_type": "code",
   "execution_count": null,
   "metadata": {},
   "outputs": [],
   "source": []
  },
  {
   "cell_type": "markdown",
   "metadata": {},
   "source": [
    "Fitting the model\n",
    "-\n",
    "- In fit method using training and validation data \n",
    "- Epochs defined 50"
   ]
  },
  {
   "cell_type": "code",
   "execution_count": 14,
   "metadata": {
    "colab": {
     "base_uri": "https://localhost:8080/"
    },
    "id": "Icf14IqjrjwI",
    "outputId": "0c7bbe41-4248-4e81-9115-4382c8634771"
   },
   "outputs": [
    {
     "name": "stdout",
     "output_type": "stream",
     "text": [
      "Epoch 1/50\n",
      "12/12 [==============================] - 40s 2s/step - loss: 1.5849 - accuracy: 0.5526 - val_loss: 0.9311 - val_accuracy: 0.4286\n",
      "Epoch 2/50\n",
      "12/12 [==============================] - 2s 129ms/step - loss: 0.9429 - accuracy: 0.5474 - val_loss: 0.9009 - val_accuracy: 0.6531\n",
      "Epoch 3/50\n",
      "12/12 [==============================] - 2s 129ms/step - loss: 0.9526 - accuracy: 0.6421 - val_loss: 0.4803 - val_accuracy: 0.7959\n",
      "Epoch 4/50\n",
      "12/12 [==============================] - 2s 136ms/step - loss: 0.7277 - accuracy: 0.6316 - val_loss: 0.4905 - val_accuracy: 0.7551\n",
      "Epoch 5/50\n",
      "12/12 [==============================] - 2s 130ms/step - loss: 0.6088 - accuracy: 0.7211 - val_loss: 0.4658 - val_accuracy: 0.7551\n",
      "Epoch 6/50\n",
      "12/12 [==============================] - 2s 128ms/step - loss: 0.4765 - accuracy: 0.7895 - val_loss: 1.6016 - val_accuracy: 0.6327\n",
      "Epoch 7/50\n",
      "12/12 [==============================] - 2s 132ms/step - loss: 0.6652 - accuracy: 0.7474 - val_loss: 0.5121 - val_accuracy: 0.6939\n",
      "Epoch 8/50\n",
      "12/12 [==============================] - 2s 181ms/step - loss: 0.4122 - accuracy: 0.8158 - val_loss: 0.5240 - val_accuracy: 0.7143\n",
      "Epoch 9/50\n",
      "12/12 [==============================] - 2s 175ms/step - loss: 0.6653 - accuracy: 0.7474 - val_loss: 0.3673 - val_accuracy: 0.8163\n",
      "Epoch 10/50\n",
      "12/12 [==============================] - 2s 131ms/step - loss: 0.3981 - accuracy: 0.7947 - val_loss: 0.2859 - val_accuracy: 0.7959\n",
      "Epoch 11/50\n",
      "12/12 [==============================] - 2s 130ms/step - loss: 0.2872 - accuracy: 0.8421 - val_loss: 0.9048 - val_accuracy: 0.7959\n",
      "Epoch 12/50\n",
      "12/12 [==============================] - 2s 131ms/step - loss: 0.8427 - accuracy: 0.7895 - val_loss: 0.2322 - val_accuracy: 0.8367\n",
      "Epoch 13/50\n",
      "12/12 [==============================] - 2s 132ms/step - loss: 0.2999 - accuracy: 0.8421 - val_loss: 0.2484 - val_accuracy: 0.7959\n",
      "Epoch 14/50\n",
      "12/12 [==============================] - 2s 133ms/step - loss: 0.6713 - accuracy: 0.7684 - val_loss: 0.2371 - val_accuracy: 0.8163\n",
      "Epoch 15/50\n",
      "12/12 [==============================] - 2s 134ms/step - loss: 0.2763 - accuracy: 0.8368 - val_loss: 0.2321 - val_accuracy: 0.8163\n",
      "Epoch 16/50\n",
      "12/12 [==============================] - 2s 128ms/step - loss: 0.2942 - accuracy: 0.8579 - val_loss: 0.1974 - val_accuracy: 0.8163\n",
      "Epoch 17/50\n",
      "12/12 [==============================] - 2s 131ms/step - loss: 0.3642 - accuracy: 0.8421 - val_loss: 1.0361 - val_accuracy: 0.4286\n",
      "Epoch 18/50\n",
      "12/12 [==============================] - 2s 131ms/step - loss: 0.4039 - accuracy: 0.8105 - val_loss: 0.2528 - val_accuracy: 0.8163\n",
      "Epoch 19/50\n",
      "12/12 [==============================] - 2s 132ms/step - loss: 0.3332 - accuracy: 0.8368 - val_loss: 1.4917 - val_accuracy: 0.5102\n",
      "Epoch 20/50\n",
      "12/12 [==============================] - 2s 132ms/step - loss: 0.3717 - accuracy: 0.8579 - val_loss: 0.2529 - val_accuracy: 0.8163\n",
      "Epoch 21/50\n",
      "12/12 [==============================] - 2s 129ms/step - loss: 0.2183 - accuracy: 0.8737 - val_loss: 0.1862 - val_accuracy: 0.8980\n",
      "Epoch 22/50\n",
      "12/12 [==============================] - 2s 128ms/step - loss: 0.4979 - accuracy: 0.8684 - val_loss: 0.3500 - val_accuracy: 0.8776\n",
      "Epoch 23/50\n",
      "12/12 [==============================] - 2s 128ms/step - loss: 0.2074 - accuracy: 0.9053 - val_loss: 0.2527 - val_accuracy: 0.9184\n",
      "Epoch 24/50\n",
      "12/12 [==============================] - 2s 131ms/step - loss: 0.2681 - accuracy: 0.8842 - val_loss: 0.1451 - val_accuracy: 0.8980\n",
      "Epoch 25/50\n",
      "12/12 [==============================] - 2s 130ms/step - loss: 0.1956 - accuracy: 0.9000 - val_loss: 0.3573 - val_accuracy: 0.8367\n",
      "Epoch 26/50\n",
      "12/12 [==============================] - 2s 134ms/step - loss: 0.4020 - accuracy: 0.8737 - val_loss: 0.1684 - val_accuracy: 0.9184\n",
      "Epoch 27/50\n",
      "12/12 [==============================] - 2s 132ms/step - loss: 0.1053 - accuracy: 0.9789 - val_loss: 2.2751 - val_accuracy: 0.8980\n",
      "Epoch 28/50\n",
      "12/12 [==============================] - 2s 130ms/step - loss: 0.4135 - accuracy: 0.9105 - val_loss: 0.2337 - val_accuracy: 0.9184\n",
      "Epoch 29/50\n",
      "12/12 [==============================] - 2s 128ms/step - loss: 0.3654 - accuracy: 0.9105 - val_loss: 0.1315 - val_accuracy: 0.9388\n",
      "Epoch 30/50\n",
      "12/12 [==============================] - 2s 129ms/step - loss: 0.1349 - accuracy: 0.9421 - val_loss: 0.1461 - val_accuracy: 0.8980\n",
      "Epoch 31/50\n",
      "12/12 [==============================] - 2s 128ms/step - loss: 0.0361 - accuracy: 0.9842 - val_loss: 0.2093 - val_accuracy: 0.9184\n",
      "Epoch 32/50\n",
      "12/12 [==============================] - 2s 131ms/step - loss: 0.6317 - accuracy: 0.8947 - val_loss: 0.2336 - val_accuracy: 0.9184\n",
      "Epoch 33/50\n",
      "12/12 [==============================] - 2s 128ms/step - loss: 0.1163 - accuracy: 0.9947 - val_loss: 0.2362 - val_accuracy: 0.9184\n",
      "Epoch 34/50\n",
      "12/12 [==============================] - 2s 133ms/step - loss: 0.0449 - accuracy: 0.9842 - val_loss: 0.8498 - val_accuracy: 0.8980\n",
      "Epoch 35/50\n",
      "12/12 [==============================] - 2s 131ms/step - loss: 0.1983 - accuracy: 0.9474 - val_loss: 0.5671 - val_accuracy: 0.7347\n",
      "Epoch 36/50\n",
      "12/12 [==============================] - 2s 131ms/step - loss: 0.3818 - accuracy: 0.9474 - val_loss: 0.2604 - val_accuracy: 0.8980\n",
      "Epoch 37/50\n",
      "12/12 [==============================] - 2s 132ms/step - loss: 0.1011 - accuracy: 0.9789 - val_loss: 0.2057 - val_accuracy: 0.8980\n",
      "Epoch 38/50\n",
      "12/12 [==============================] - 2s 131ms/step - loss: 0.0501 - accuracy: 0.9842 - val_loss: 0.2132 - val_accuracy: 0.8980\n",
      "Epoch 39/50\n",
      "12/12 [==============================] - 2s 130ms/step - loss: 0.0249 - accuracy: 0.9895 - val_loss: 0.2083 - val_accuracy: 0.9388\n",
      "Epoch 40/50\n",
      "12/12 [==============================] - 2s 131ms/step - loss: 0.1251 - accuracy: 0.9842 - val_loss: 0.2900 - val_accuracy: 0.9388\n",
      "Epoch 41/50\n",
      "12/12 [==============================] - 2s 130ms/step - loss: 0.2079 - accuracy: 0.9474 - val_loss: 0.2052 - val_accuracy: 0.9184\n",
      "Epoch 42/50\n",
      "12/12 [==============================] - 2s 128ms/step - loss: 0.1491 - accuracy: 0.9316 - val_loss: 0.1881 - val_accuracy: 0.9388\n",
      "Epoch 43/50\n",
      "12/12 [==============================] - 2s 127ms/step - loss: 0.0077 - accuracy: 1.0000 - val_loss: 0.2150 - val_accuracy: 0.9388\n",
      "Epoch 44/50\n",
      "12/12 [==============================] - 2s 129ms/step - loss: 0.0024 - accuracy: 1.0000 - val_loss: 0.2412 - val_accuracy: 0.9388\n",
      "Epoch 45/50\n",
      "12/12 [==============================] - 2s 136ms/step - loss: 9.3900e-04 - accuracy: 1.0000 - val_loss: 0.2844 - val_accuracy: 0.9592\n",
      "Epoch 46/50\n",
      "12/12 [==============================] - 2s 132ms/step - loss: 1.7434 - accuracy: 0.8895 - val_loss: 0.2782 - val_accuracy: 0.9184\n",
      "Epoch 47/50\n",
      "12/12 [==============================] - 2s 131ms/step - loss: 0.0657 - accuracy: 0.9842 - val_loss: 0.1730 - val_accuracy: 0.9388\n",
      "Epoch 48/50\n",
      "12/12 [==============================] - 2s 131ms/step - loss: 0.0152 - accuracy: 1.0000 - val_loss: 0.2047 - val_accuracy: 0.9184\n",
      "Epoch 49/50\n",
      "12/12 [==============================] - 2s 131ms/step - loss: 0.0054 - accuracy: 1.0000 - val_loss: 0.4435 - val_accuracy: 0.9388\n",
      "Epoch 50/50\n",
      "12/12 [==============================] - 2s 131ms/step - loss: 0.0022 - accuracy: 1.0000 - val_loss: 0.3150 - val_accuracy: 0.9184\n"
     ]
    }
   ],
   "source": [
    "\n",
    "history = model.fit(\n",
    "                    train_data,\n",
    "                    validation_data = (imgs, labels),\n",
    "                    epochs=50)"
   ]
  },
  {
   "cell_type": "code",
   "execution_count": null,
   "metadata": {},
   "outputs": [],
   "source": []
  },
  {
   "cell_type": "markdown",
   "metadata": {},
   "source": [
    "Visualize Accuracy and Loss\n",
    "-\n",
    "- importing matplotlib and seaborn libraries for ploting graphs\n",
    "- Training accuracy and validation accuracy graphs\n",
    "- Training loss and validation loss graphs"
   ]
  },
  {
   "cell_type": "code",
   "execution_count": 17,
   "metadata": {
    "colab": {
     "base_uri": "https://localhost:8080/",
     "height": 573
    },
    "id": "AwrUPSufrnfo",
    "outputId": "7d8a74a7-ff53-4b5b-fc61-c48236407e63"
   },
   "outputs": [
    {
     "data": {
      "image/png": "[encoded data removed]",
      "text/plain": [
       "<Figure size 432x288 with 1 Axes>"
      ]
     },
     "metadata": {
      "needs_background": "light"
     },
     "output_type": "display_data"
    },
    {
     "data": {
      "image/png": "[encoded data removed]",
      "text/plain": [
       "<Figure size 432x288 with 1 Axes>"
      ]
     },
     "metadata": {
      "needs_background": "light"
     },
     "output_type": "display_data"
    }
   ],
   "source": [
    "\n",
    "\n",
    "import matplotlib.pyplot as plt\n",
    "import seaborn as sns\n",
    "\n",
    "plt.plot(history.history['accuracy'], label=\"Training accuracy\")\n",
    "plt.plot(history.history['val_accuracy'], label=\"Validation accuracy\")\n",
    "plt.title('Training and validation accuracy')\n",
    "plt.xlabel('Epochs')\n",
    "plt.ylabel('Accuracy')\n",
    "plt.legend()\n",
    "plt.show()\n",
    "# Plot using Seaborn\n",
    "\n",
    "plt.plot(history.history['accuracy'], label=\"Training loss\")\n",
    "plt.plot(history.history['val_accuracy'], label=\"Validation loss\")\n",
    "#my_plot = sns.lineplot(data=history[[\"loss\",\"validation_loss\"]])\n",
    "plt.xlabel('Epochs')\n",
    "plt.ylabel('Loss')\n",
    "#plt.legend(labels=[\"Training\", \"Validation\"])\n",
    "plt.title('Training and Validation Loss')\n",
    "plt.show()"
   ]
  },
  {
   "cell_type": "code",
   "execution_count": null,
   "metadata": {},
   "outputs": [],
   "source": []
  },
  {
   "cell_type": "markdown",
   "metadata": {},
   "source": [
    "Testing the model on unseen data\n",
    "-\n",
    "- Evaluate method used for testing\n",
    "- putting the unseen data"
   ]
  },
  {
   "cell_type": "code",
   "execution_count": 18,
   "metadata": {
    "colab": {
     "base_uri": "https://localhost:8080/"
    },
    "id": "jvQG4hqMr3W1",
    "outputId": "d763facf-c6aa-4cf0-9458-d6c599132343"
   },
   "outputs": [
    {
     "name": "stdout",
     "output_type": "stream",
     "text": [
      "2/2 [==============================] - 0s 24ms/step - loss: 0.3150 - accuracy: 0.9184\n"
     ]
    },
    {
     "data": {
      "text/plain": [
       "[0.3149673640727997, 0.918367326259613]"
      ]
     },
     "execution_count": 18,
     "metadata": {},
     "output_type": "execute_result"
    }
   ],
   "source": [
    "\n",
    "model.evaluate(imgs, labels)"
   ]
  },
  {
   "cell_type": "code",
   "execution_count": 19,
   "metadata": {
    "id": "JL67G2TPr7Nb"
   },
   "outputs": [],
   "source": [
    "\n",
    "import numpy as np\n",
    "import pandas as pd\n",
    "\n"
   ]
  },
  {
   "cell_type": "code",
   "execution_count": 20,
   "metadata": {
    "id": "2H3dl4ynr-k_"
   },
   "outputs": [],
   "source": [
    "y_pred = model.predict(imgs, verbose=0)\n",
    "\n"
   ]
  },
  {
   "cell_type": "code",
   "execution_count": null,
   "metadata": {},
   "outputs": [],
   "source": []
  },
  {
   "cell_type": "markdown",
   "metadata": {},
   "source": [
    "Confusion matrix\n",
    "-\n",
    "- import confusion matrix from sklearn\n",
    "- predict the model \n",
    "- plot the confusion matrix graphs"
   ]
  },
  {
   "cell_type": "code",
   "execution_count": null,
   "metadata": {},
   "outputs": [],
   "source": []
  },
  {
   "cell_type": "code",
   "execution_count": 21,
   "metadata": {
    "id": "fDXKuH9AsI8r"
   },
   "outputs": [],
   "source": [
    "from sklearn.metrics import confusion_matrix\n",
    "c_matrix = confusion_matrix(np.argmax(labels, axis=1), np.argmax(y_pred, axis=1))\n",
    "\n",
    "import seaborn as sns\n",
    "def confusion_matrix(confusion_matrix, class_names, figsize = (10,7), fontsize=14):\n",
    "    \"\"\"Prints a confusion matrix, as returned by sklearn.metrics.confusion_matrix, as a heatmap.\n",
    "    \n",
    "    Arguments\n",
    "    ---------\n",
    "    confusion_matrix: numpy.ndarray\n",
    "        The numpy.ndarray object returned from a call to sklearn.metrics.confusion_matrix. \n",
    "        Similarly constructed ndarrays can also be used.\n",
    "    class_names: list\n",
    "        An ordered list of class names, in the order they index the given confusion matrix.\n",
    "    figsize: tuple\n",
    "        A 2-long tuple, the first value determining the horizontal size of the ouputted figure,\n",
    "        the second determining the vertical size. Defaults to (10,7).\n",
    "    fontsize: int\n",
    "        Font size for axes labels. Defaults to 14.\n",
    "    \"\"\"\n",
    "    df_cm = pd.DataFrame(\n",
    "        confusion_matrix, index=class_names, columns=class_names, \n",
    "    )\n",
    "    fig = plt.figure(figsize=figsize)\n",
    "    try:\n",
    "        heatmap = sns.heatmap(df_cm, annot=True, fmt=\"d\")\n",
    "    except ValueError:\n",
    "        raise ValueError(\"Confusion matrix values must be integers.\")\n",
    "    heatmap.yaxis.set_ticklabels(heatmap.yaxis.get_ticklabels(), rotation=0, ha='right', fontsize=fontsize)\n",
    "    heatmap.xaxis.set_ticklabels(heatmap.xaxis.get_ticklabels(), rotation=45, ha='right', fontsize=fontsize)\n",
    "    plt.ylabel('True label')\n",
    "    plt.xlabel('Predicted label')"
   ]
  },
  {
   "cell_type": "code",
   "execution_count": 22,
   "metadata": {
    "colab": {
     "base_uri": "https://localhost:8080/",
     "height": 504
    },
    "id": "G0GkiJGasNB3",
    "outputId": "4efc89bc-d18e-4c59-d1c3-c1f8eaaa29a2"
   },
   "outputs": [
    {
     "data": {
      "image/png": "[encoded data removed]",
      "text/plain": [
       "<Figure size 1080x504 with 2 Axes>"
      ]
     },
     "metadata": {
      "needs_background": "light"
     },
     "output_type": "display_data"
    }
   ],
   "source": [
    "class_names = batches.class_indices.keys()\n",
    "confusion_matrix(c_matrix, class_names, figsize = (15,7), fontsize=14)"
   ]
  },
  {
   "cell_type": "code",
   "execution_count": null,
   "metadata": {},
   "outputs": [],
   "source": []
  },
  {
   "cell_type": "markdown",
   "metadata": {},
   "source": [
    "Creating Classification Report\n",
    "- \n",
    "- import classification report from sklearn\n",
    "- predicting the value\n",
    "- "
   ]
  },
  {
   "cell_type": "code",
   "execution_count": null,
   "metadata": {},
   "outputs": [],
   "source": []
  },
  {
   "cell_type": "code",
   "execution_count": 23,
   "metadata": {
    "colab": {
     "base_uri": "https://localhost:8080/"
    },
    "id": "6xKfQ2rnsTHv",
    "outputId": "eb8a7402-479e-4a8b-d384-59b4cae9e93c"
   },
   "outputs": [
    {
     "name": "stdout",
     "output_type": "stream",
     "text": [
      "              precision    recall  f1-score   support\n",
      "\n",
      "           0       1.00      1.00      1.00        20\n",
      "           1       0.87      0.95      0.91        21\n",
      "           2       0.83      0.62      0.71         8\n",
      "\n",
      "    accuracy                           0.92        49\n",
      "   macro avg       0.90      0.86      0.87        49\n",
      "weighted avg       0.92      0.92      0.91        49\n",
      "\n"
     ]
    }
   ],
   "source": [
    "# From categorical outputs to discrete values\n",
    "\n",
    "y_pred_ = [np.argmax(y) for y in y_pred]\n",
    "y_test_ = [np.argmax(y) for y in labels]\n",
    "\n",
    "from sklearn.metrics import classification_report\n",
    "print(classification_report(y_test_, y_pred_))"
   ]
  },
  {
   "cell_type": "code",
   "execution_count": null,
   "metadata": {
    "id": "WGXaRtidscvE"
   },
   "outputs": [],
   "source": []
  }
 ],
 "metadata": {
  "accelerator": "GPU",
  "colab": {
   "collapsed_sections": [],
   "name": "water_analysis_using_CNN.ipynb",
   "provenance": []
  },
  "gpuClass": "standard",
  "kernelspec": {
   "display_name": "Python 3 (ipykernel)",
   "language": "python",
   "name": "python3"
  },
  "language_info": {
   "codemirror_mode": {
    "name": "ipython",
    "version": 3
   },
   "file_extension": ".py",
   "mimetype": "text/x-python",
   "name": "python",
   "nbconvert_exporter": "python",
   "pygments_lexer": "ipython3",
   "version": "3.9.7"
  }
 },
 "nbformat": 4,
 "nbformat_minor": 1
}
