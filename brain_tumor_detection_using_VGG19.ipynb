{
  "nbformat": 4,
  "nbformat_minor": 0,
  "metadata": {
    "colab": {
      "name": "brain tumor detection using VGG19.ipynb",
      "provenance": []
    },
    "kernelspec": {
      "name": "python3",
      "display_name": "Python 3"
    },
    "language_info": {
      "name": "python"
    },
    "accelerator": "GPU"
  },
  "cells": [
    {
      "cell_type": "code",
      "execution_count": 4,
      "metadata": {
        "id": "sQiyr34F-BIp"
      },
      "outputs": [],
      "source": [
        "import numpy as np\n",
        "import tensorflow as tf\n",
        "import keras\n",
        "import matplotlib.pyplot as plt\n",
        "from keras.layers import *\n",
        "from keras import models\n",
        "model = models.Sequential()\n",
        "from keras.preprocessing import image"
      ]
    },
    {
      "cell_type": "code",
      "source": [
        "from tensorflow.keras.applications import VGG19\n",
        "conv_base = VGG19(weights='imagenet',\n",
        "include_top=False,\n",
        "input_shape=(224, 224, 3))"
      ],
      "metadata": {
        "id": "FPQ8yltL-Ci5"
      },
      "execution_count": 5,
      "outputs": []
    },
    {
      "cell_type": "code",
      "source": [
        ""
      ],
      "metadata": {
        "id": "kUrOU_osBMKV"
      },
      "execution_count": 5,
      "outputs": []
    },
    {
      "cell_type": "code",
      "source": [
        "from keras import models\n",
        "from keras import layers\n",
        "model = models.Sequential()\n",
        "model.add(conv_base)\n",
        "model.add(Dropout(0.25))\n",
        "\n",
        "model.add(layers.Flatten())\n",
        "model.add(layers.Dense(256, activation='relu'))\n",
        "model.add(layers.Dense(128, activation='relu'))\n",
        "model.add(Dropout(0.25))\n",
        "model.add(layers.Dense(1, activation='sigmoid'))"
      ],
      "metadata": {
        "id": "g7xAc3mP-t30"
      },
      "execution_count": 6,
      "outputs": []
    },
    {
      "cell_type": "code",
      "source": [
        "model.compile(optimizer=\"rmsprop\",\n",
        " loss=\"binary_crossentropy\",\n",
        " metrics=[\"accuracy\"])"
      ],
      "metadata": {
        "id": "WLPrUQIQ-yDR"
      },
      "execution_count": 7,
      "outputs": []
    },
    {
      "cell_type": "code",
      "source": [
        "from tensorflow.keras.utils import image_dataset_from_directory\n",
        "\n",
        "train_dataset = image_dataset_from_directory(\"/content/drive/MyDrive/Thesis Data/train\",\n",
        "                                            image_size=(224, 224), batch_size=32)"
      ],
      "metadata": {
        "colab": {
          "base_uri": "https://localhost:8080/"
        },
        "id": "-L2D05Z7-04I",
        "outputId": "a12107a8-a581-49a3-d390-ed2b18e2f966"
      },
      "execution_count": 8,
      "outputs": [
        {
          "output_type": "stream",
          "name": "stdout",
          "text": [
            "Found 4922 files belonging to 2 classes.\n"
          ]
        }
      ]
    },
    {
      "cell_type": "code",
      "source": [
        "val_dataset = image_dataset_from_directory(\"/content/drive/MyDrive/Thesis Data/val\",\n",
        "                                             image_size=(224, 224),batch_size=32)"
      ],
      "metadata": {
        "colab": {
          "base_uri": "https://localhost:8080/"
        },
        "id": "Zt5iRhaO-3QY",
        "outputId": "d9e22d31-03d2-441b-d545-17a34569f21e"
      },
      "execution_count": 9,
      "outputs": [
        {
          "output_type": "stream",
          "name": "stdout",
          "text": [
            "Found 1406 files belonging to 2 classes.\n"
          ]
        }
      ]
    },
    {
      "cell_type": "code",
      "source": [
        "test_dataset = image_dataset_from_directory(\"/content/drive/MyDrive/Thesis Data/test\",\n",
        "                                             image_size=(224, 224))"
      ],
      "metadata": {
        "colab": {
          "base_uri": "https://localhost:8080/"
        },
        "id": "D9VM8DFZ-64Z",
        "outputId": "c2856a50-2771-4b44-c9c3-cb01237b06c4"
      },
      "execution_count": 10,
      "outputs": [
        {
          "output_type": "stream",
          "name": "stdout",
          "text": [
            "Found 705 files belonging to 2 classes.\n"
          ]
        }
      ]
    },
    {
      "cell_type": "code",
      "source": [
        "\n",
        "history = model.fit(\n",
        "train_dataset,validation_data = val_dataset, epochs=10)"
      ],
      "metadata": {
        "colab": {
          "base_uri": "https://localhost:8080/"
        },
        "id": "BJkv8Jo2--5-",
        "outputId": "1c51dadb-7ec6-41a4-c0ea-52ac43961c1a"
      },
      "execution_count": 11,
      "outputs": [
        {
          "output_type": "stream",
          "name": "stdout",
          "text": [
            "Epoch 1/10\n",
            "154/154 [==============================] - 764s 4s/step - loss: 187873.5000 - accuracy: 0.5211 - val_loss: 0.6846 - val_accuracy: 0.5583\n",
            "Epoch 2/10\n",
            "154/154 [==============================] - 84s 538ms/step - loss: 0.6912 - accuracy: 0.5419 - val_loss: 0.6896 - val_accuracy: 0.5420\n",
            "Epoch 3/10\n",
            "154/154 [==============================] - 86s 558ms/step - loss: 0.6901 - accuracy: 0.5421 - val_loss: 0.6897 - val_accuracy: 0.5420\n",
            "Epoch 4/10\n",
            "154/154 [==============================] - 87s 558ms/step - loss: 0.6900 - accuracy: 0.5421 - val_loss: 0.6896 - val_accuracy: 0.5420\n",
            "Epoch 5/10\n",
            "154/154 [==============================] - 87s 560ms/step - loss: 0.6900 - accuracy: 0.5421 - val_loss: 0.6896 - val_accuracy: 0.5420\n",
            "Epoch 6/10\n",
            "154/154 [==============================] - 87s 562ms/step - loss: 0.6895 - accuracy: 0.5421 - val_loss: 0.6896 - val_accuracy: 0.5420\n",
            "Epoch 7/10\n",
            "154/154 [==============================] - 86s 557ms/step - loss: 0.6900 - accuracy: 0.5421 - val_loss: 0.6896 - val_accuracy: 0.5420\n",
            "Epoch 8/10\n",
            "154/154 [==============================] - 87s 560ms/step - loss: 0.6901 - accuracy: 0.5421 - val_loss: 0.6896 - val_accuracy: 0.5420\n",
            "Epoch 9/10\n",
            "154/154 [==============================] - 87s 559ms/step - loss: 0.6901 - accuracy: 0.5421 - val_loss: 0.6896 - val_accuracy: 0.5420\n",
            "Epoch 10/10\n",
            "154/154 [==============================] - 87s 559ms/step - loss: 0.6900 - accuracy: 0.5421 - val_loss: 0.6896 - val_accuracy: 0.5420\n"
          ]
        }
      ]
    },
    {
      "cell_type": "code",
      "source": [
        "import matplotlib.pyplot as plt\n",
        "accuracy = history.history[\"accuracy\"]\n",
        "val_accuracy = history.history[\"val_accuracy\"]\n",
        "loss = history.history[\"loss\"]\n",
        "val_loss = history.history[\"val_loss\"]\n",
        "epochs = range(1, len(accuracy) + 1)\n",
        "plt.plot(epochs, accuracy, \"bo\", label=\"Training accuracy\")\n",
        "plt.plot(epochs, val_accuracy, \"b\", label=\"Validation accuracy\")\n",
        "plt.title(\"Training and validation accuracy\")\n",
        "plt.legend()\n",
        "plt.figure()\n",
        "plt.plot(epochs, loss, \"bo\", label=\"Training loss\")\n",
        "plt.plot(epochs, val_loss, \"b\", label=\"Validation loss\")\n",
        "plt.title(\"Training and validation loss\")\n",
        "plt.legend()\n",
        "plt.show()"
      ],
      "metadata": {
        "colab": {
          "base_uri": "https://localhost:8080/",
          "height": 545
        },
        "id": "SgI7lW4P_DJ3",
        "outputId": "f8ff6d5f-4fd2-469e-ebe3-047e812f1058"
      },
      "execution_count": 12,
      "outputs": [
        {
          "output_type": "display_data",
          "data": {
            "text/plain": [
              "<Figure size 432x288 with 1 Axes>"
            ],
            "image/png": "[encoded data removed]"
          },
          "metadata": {
            "needs_background": "light"
          }
        },
        {
          "output_type": "display_data",
          "data": {
            "text/plain": [
              "<Figure size 432x288 with 1 Axes>"
            ],
            "image/png": "[encoded data removed]"
          },
          "metadata": {
            "needs_background": "light"
          }
        }
      ]
    },
    {
      "cell_type": "code",
      "source": [
        "model.evaluate(test_dataset)"
      ],
      "metadata": {
        "colab": {
          "base_uri": "https://localhost:8080/"
        },
        "id": "oTlqxwff_HIB",
        "outputId": "568c010c-7935-46cb-a75d-e826d94cb65d"
      },
      "execution_count": 13,
      "outputs": [
        {
          "output_type": "stream",
          "name": "stdout",
          "text": [
            "23/23 [==============================] - 114s 3s/step - loss: 0.6897 - accuracy: 0.5418\n"
          ]
        },
        {
          "output_type": "execute_result",
          "data": {
            "text/plain": [
              "[0.6896559000015259, 0.5418439507484436]"
            ]
          },
          "metadata": {},
          "execution_count": 13
        }
      ]
    },
    {
      "cell_type": "code",
      "source": [
        ""
      ],
      "metadata": {
        "id": "3ieNCIh4_Kkp"
      },
      "execution_count": null,
      "outputs": []
    }
  ]
}