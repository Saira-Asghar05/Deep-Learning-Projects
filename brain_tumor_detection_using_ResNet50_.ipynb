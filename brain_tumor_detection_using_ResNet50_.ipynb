{
  "nbformat": 4,
  "nbformat_minor": 0,
  "metadata": {
    "colab": {
      "name": "brain tumor detection using ResNet50 .ipynb",
      "provenance": []
    },
    "kernelspec": {
      "name": "python3",
      "display_name": "Python 3"
    },
    "language_info": {
      "name": "python"
    },
    "accelerator": "GPU"
  },
  "cells": [
    {
      "cell_type": "code",
      "execution_count": null,
      "metadata": {
        "id": "wCQKFUtABfLk"
      },
      "outputs": [],
      "source": [
        "import numpy as np\n",
        "import tensorflow as tf\n",
        "import keras\n",
        "import matplotlib.pyplot as plt\n",
        "from keras.layers import *\n",
        "from keras import models\n",
        "model = models.Sequential()\n",
        "from keras.preprocessing import image"
      ]
    },
    {
      "cell_type": "code",
      "source": [
        "from tensorflow.keras.applications import ResNet50\n",
        "conv_base = ResNet50(weights='imagenet',\n",
        "include_top=False,\n",
        "input_shape=(256, 256, 3))"
      ],
      "metadata": {
        "id": "f8LDH_OaC0SA"
      },
      "execution_count": null,
      "outputs": []
    },
    {
      "cell_type": "code",
      "source": [
        "from keras import models\n",
        "from keras import layers\n",
        "model = models.Sequential()\n",
        "model.add(conv_base)\n",
        "model.add(Dropout(0.25))\n",
        "\n",
        "model.add(layers.Flatten())\n",
        "model.add(layers.Dense(256, activation='relu'))\n",
        "model.add(layers.Dense(128, activation='relu'))\n",
        "model.add(Dropout(0.25))\n",
        "model.add(layers.Dense(1, activation='sigmoid'))"
      ],
      "metadata": {
        "id": "D7-mSSjjDCeR"
      },
      "execution_count": null,
      "outputs": []
    },
    {
      "cell_type": "code",
      "source": [
        "model.compile(optimizer=\"rmsprop\",\n",
        " loss=\"binary_crossentropy\",\n",
        " metrics=[\"accuracy\"])"
      ],
      "metadata": {
        "id": "G3bSobcZDDm3"
      },
      "execution_count": null,
      "outputs": []
    },
    {
      "cell_type": "code",
      "source": [
        "from tensorflow.keras.utils import image_dataset_from_directory\n",
        "\n",
        "train_dataset = image_dataset_from_directory(\"/content/drive/MyDrive/Thesis Data/train\",\n",
        "                                            image_size=(256,256), batch_size=32)"
      ],
      "metadata": {
        "colab": {
          "base_uri": "https://localhost:8080/"
        },
        "id": "ZyY_6oAWDG2t",
        "outputId": "519e698d-0a21-4ace-f437-d6e245766e1d"
      },
      "execution_count": null,
      "outputs": [
        {
          "output_type": "stream",
          "name": "stdout",
          "text": [
            "Found 4922 files belonging to 2 classes.\n"
          ]
        }
      ]
    },
    {
      "cell_type": "code",
      "source": [
        "val_dataset = image_dataset_from_directory(\"/content/drive/MyDrive/Thesis Data/val\",\n",
        "                                             image_size=(256, 256),batch_size=32)"
      ],
      "metadata": {
        "colab": {
          "base_uri": "https://localhost:8080/"
        },
        "id": "W_NP-ZQzDKDF",
        "outputId": "a2a7b162-bfbd-4eef-8d68-e00886767d44"
      },
      "execution_count": null,
      "outputs": [
        {
          "output_type": "stream",
          "name": "stdout",
          "text": [
            "Found 1406 files belonging to 2 classes.\n"
          ]
        }
      ]
    },
    {
      "cell_type": "code",
      "source": [
        "test_dataset = image_dataset_from_directory(\"/content/drive/MyDrive/Thesis Data/test\",\n",
        "                                             image_size=(256,256))"
      ],
      "metadata": {
        "colab": {
          "base_uri": "https://localhost:8080/"
        },
        "id": "xSjr9YZKDNgB",
        "outputId": "326fcf65-6592-4b54-e25e-d7d7c0a73da0"
      },
      "execution_count": null,
      "outputs": [
        {
          "output_type": "stream",
          "name": "stdout",
          "text": [
            "Found 705 files belonging to 2 classes.\n"
          ]
        }
      ]
    },
    {
      "cell_type": "code",
      "source": [
        "\n",
        "history = model.fit(\n",
        "train_dataset,validation_data = val_dataset, epochs=10)"
      ],
      "metadata": {
        "colab": {
          "base_uri": "https://localhost:8080/"
        },
        "id": "vOTzbmLnDP8w",
        "outputId": "2f0ddb1f-e639-477d-fc7e-77929bf59256"
      },
      "execution_count": null,
      "outputs": [
        {
          "output_type": "stream",
          "name": "stdout",
          "text": [
            "Epoch 1/10\n",
            "154/154 [==============================] - 507s 3s/step - loss: 2.0036 - accuracy: 0.5488 - val_loss: 15200.4424 - val_accuracy: 0.5420\n",
            "Epoch 2/10\n",
            "154/154 [==============================] - 70s 449ms/step - loss: 0.9002 - accuracy: 0.5516 - val_loss: 292.8474 - val_accuracy: 0.4815\n",
            "Epoch 3/10\n",
            "154/154 [==============================] - 71s 456ms/step - loss: 0.7434 - accuracy: 0.5794 - val_loss: 8.6010 - val_accuracy: 0.5420\n",
            "Epoch 4/10\n",
            "154/154 [==============================] - 71s 457ms/step - loss: 0.6741 - accuracy: 0.6428 - val_loss: 2.3491 - val_accuracy: 0.6067\n",
            "Epoch 5/10\n",
            "154/154 [==============================] - 71s 457ms/step - loss: 0.5713 - accuracy: 0.7166 - val_loss: 0.4854 - val_accuracy: 0.7980\n",
            "Epoch 6/10\n",
            "154/154 [==============================] - 71s 459ms/step - loss: 0.1138 - accuracy: 0.9638 - val_loss: 0.1624 - val_accuracy: 0.9637\n",
            "Epoch 7/10\n",
            "154/154 [==============================] - 72s 463ms/step - loss: 0.0794 - accuracy: 0.9923 - val_loss: 0.1356 - val_accuracy: 0.9822\n",
            "Epoch 8/10\n",
            "154/154 [==============================] - 71s 458ms/step - loss: 0.0565 - accuracy: 0.9917 - val_loss: 84.1538 - val_accuracy: 0.5661\n",
            "Epoch 9/10\n",
            "154/154 [==============================] - 71s 457ms/step - loss: 0.0476 - accuracy: 0.9972 - val_loss: 3.2087 - val_accuracy: 0.9659\n",
            "Epoch 10/10\n",
            "154/154 [==============================] - 71s 458ms/step - loss: 0.0385 - accuracy: 0.9967 - val_loss: 8.5829e-07 - val_accuracy: 1.0000\n"
          ]
        }
      ]
    },
    {
      "cell_type": "code",
      "source": [
        "import matplotlib.pyplot as plt\n",
        "accuracy = history.history[\"accuracy\"]\n",
        "val_accuracy = history.history[\"val_accuracy\"]\n",
        "loss = history.history[\"loss\"]\n",
        "val_loss = history.history[\"val_loss\"]\n",
        "epochs = range(1, len(accuracy) + 1)\n",
        "plt.plot(epochs, accuracy, \"bo\", label=\"Training accuracy\")\n",
        "plt.plot(epochs, val_accuracy, \"b\", label=\"Validation accuracy\")\n",
        "plt.title(\"Training and validation accuracy\")\n",
        "plt.legend()\n",
        "plt.figure()\n",
        "plt.plot(epochs, loss, \"bo\", label=\"Training loss\")\n",
        "plt.plot(epochs, val_loss, \"b\", label=\"Validation loss\")\n",
        "plt.title(\"Training and validation loss\")\n",
        "plt.legend()\n",
        "plt.show()"
      ],
      "metadata": {
        "colab": {
          "base_uri": "https://localhost:8080/",
          "height": 545
        },
        "id": "fyNuWLPxOVhQ",
        "outputId": "5dfd657d-9c08-4940-f040-3bcaf7ee96e5"
      },
      "execution_count": null,
      "outputs": [
        {
          "output_type": "display_data",
          "data": {
            "text/plain": [
              "<Figure size 432x288 with 1 Axes>"
            ],
            "image/png": "[encoded data removed]"
          },
          "metadata": {
            "needs_background": "light"
          }
        },
        {
          "output_type": "display_data",
          "data": {
            "text/plain": [
              "<Figure size 432x288 with 1 Axes>"
            ],
            "image/png": "[encoded data removed]"
          },
          "metadata": {
            "needs_background": "light"
          }
        }
      ]
    },
    {
      "cell_type": "code",
      "source": [
        "model.evaluate(test_dataset)"
      ],
      "metadata": {
        "colab": {
          "base_uri": "https://localhost:8080/"
        },
        "id": "cJXfJuj7OlIn",
        "outputId": "36470d28-b953-42f1-c414-bbcfcdf59b61"
      },
      "execution_count": null,
      "outputs": [
        {
          "output_type": "stream",
          "name": "stdout",
          "text": [
            "23/23 [==============================] - 96s 3s/step - loss: 1.0228e-07 - accuracy: 1.0000\n"
          ]
        },
        {
          "output_type": "execute_result",
          "data": {
            "text/plain": [
              "[1.0228189495364859e-07, 1.0]"
            ]
          },
          "metadata": {},
          "execution_count": 15
        }
      ]
    },
    {
      "cell_type": "code",
      "source": [
        ""
      ],
      "metadata": {
        "id": "-FpxCnYVS9nf"
      },
      "execution_count": null,
      "outputs": []
    }
  ]
}