{
  "cells": [
    {
      "cell_type": "code",
      "execution_count": null,
      "metadata": {
        "id": "C662VB6Osuny"
      },
      "outputs": [],
      "source": [
        ""
      ]
    },
    {
      "cell_type": "code",
      "execution_count": 41,
      "metadata": {
        "id": "F5LlJMxNj_A6"
      },
      "outputs": [],
      "source": [
        "\n",
        "import os\n",
        "import glob\n",
        "import h5py\n",
        "from PIL import Image\n",
        "from keras.models import Sequential, Model\n",
        "from keras.applications.vgg16 import VGG16, preprocess_input\n",
        "from keras.preprocessing.image import ImageDataGenerator,load_img, img_to_array\n",
        "from keras.models import Sequential\n",
        "from keras.layers import Conv2D, MaxPooling2D, Dense, Dropout, Input, Flatten, SeparableConv2D\n",
        "from keras.layers import GlobalMaxPooling2D\n",
        "from tensorflow.keras.layers import BatchNormalization\n",
        "from keras.models import Model\n",
        "from tensorflow.keras.optimizers import Adam , SGD, RMSprop\n",
        "from keras.callbacks import ModelCheckpoint, Callback, EarlyStopping\n",
        "from tensorflow.keras.utils import to_categorical\n",
        "from keras import backend as K\n",
        "import numpy as np"
      ]
    },
    {
      "cell_type": "code",
      "execution_count": 41,
      "metadata": {
        "id": "PnLct_aKm-a1"
      },
      "outputs": [],
      "source": [
        ""
      ]
    },
    {
      "cell_type": "code",
      "execution_count": 59,
      "metadata": {
        "colab": {
          "base_uri": "https://localhost:8080/"
        },
        "id": "bt6EGrBXnBjV",
        "outputId": "56a5d681-0630-4397-992a-d07d723db90a"
      },
      "outputs": [
        {
          "output_type": "stream",
          "name": "stdout",
          "text": [
            "Found 190 images belonging to 3 classes.\n",
            "Found 49 images belonging to 3 classes.\n"
          ]
        }
      ],
      "source": [
        "\n",
        "\n",
        "import keras\n",
        "import tensorflow as tf\n",
        "from tensorflow.keras import layers\n",
        "\n",
        "data_augmentation = keras.Sequential(\n",
        " [\n",
        " layers.RandomFlip(\"horizontal\"),\n",
        " layers.RandomRotation(0.1),\n",
        " layers.RandomZoom(0.2),\n",
        " ]\n",
        ")\n",
        "\n",
        "\n",
        "from tensorflow.keras.preprocessing.image import ImageDataGenerator\n",
        "train_datagen = ImageDataGenerator( preprocessing_function= preprocess_input,\n",
        "                                   horizontal_flip = True,\n",
        "                                     rescale=1./255 )\n",
        "\n",
        "\n",
        "validation_datagen = ImageDataGenerator(preprocessing_function= preprocess_input,\n",
        "                                        horizontal_flip = True,\n",
        "                                        rescale=1./255)\n",
        "\n",
        "train_data = train_datagen.flow_from_directory(\n",
        "                    '/content/drive/MyDrive/water analysis/split data/train',\n",
        "                    target_size=(224, 224), batch_size= 16)\n",
        "\n",
        "batches = validation_datagen.flow_from_directory(\n",
        "                    '/content/drive/MyDrive/water analysis/split data/val',\n",
        "                   target_size=(224,224),batch_size= 49)\n",
        "                    "
      ]
    },
    {
      "cell_type": "code",
      "execution_count": 60,
      "metadata": {
        "colab": {
          "base_uri": "https://localhost:8080/"
        },
        "id": "oTCpgSIOo2kx",
        "outputId": "ba833386-125e-4a5e-f74a-b2d14dd9345c"
      },
      "outputs": [
        {
          "output_type": "execute_result",
          "data": {
            "text/plain": [
              "{'clean water': 0, 'lake': 1, 'pound': 2}"
            ]
          },
          "metadata": {},
          "execution_count": 60
        }
      ],
      "source": [
        "\n",
        "from PIL import ImageFile\n",
        "ImageFile.LOAD_TRUNCATED_IMAGES = True\n",
        "\n",
        "imgs, labels = next(batches)\n",
        "\n",
        "batches.class_indices"
      ]
    },
    {
      "cell_type": "code",
      "execution_count": 61,
      "metadata": {
        "colab": {
          "base_uri": "https://localhost:8080/"
        },
        "id": "6LMYjzMIqVFc",
        "outputId": "f7e1197f-561c-4292-8f6e-68b99189219e"
      },
      "outputs": [
        {
          "output_type": "execute_result",
          "data": {
            "text/plain": [
              "{'clean water': 0, 'lake': 1, 'pound': 2}"
            ]
          },
          "metadata": {},
          "execution_count": 61
        }
      ],
      "source": [
        "\n",
        "\n",
        "\n",
        "\n",
        "\n",
        "categories = {\n",
        "'clean water': 0, 'lake': 1, 'pound': 2\n",
        "}\n",
        "\n",
        "categories"
      ]
    },
    {
      "cell_type": "code",
      "execution_count": 62,
      "metadata": {
        "colab": {
          "base_uri": "https://localhost:8080/",
          "height": 54
        },
        "id": "x_h6EO9Hq_GU",
        "outputId": "fa7e1651-9269-4108-c42e-80676079df1e"
      },
      "outputs": [
        {
          "output_type": "execute_result",
          "data": {
            "text/plain": [
              "'from sklearn.model_selection import train_test_split\\n# Train, validation and test split\\n\\nX_val, X_test, y_val, y_test = train_test_split(imgs,labels, test_size=0.2, random_state=7)\\n\\n'"
            ],
            "application/vnd.google.colaboratory.intrinsic+json": {
              "type": "string"
            }
          },
          "metadata": {},
          "execution_count": 62
        }
      ],
      "source": [
        "\n",
        "'''from sklearn.model_selection import train_test_split\n",
        "# Train, validation and test split\n",
        "\n",
        "X_val, X_test, y_val, y_test = train_test_split(imgs,labels, test_size=0.2, random_state=7)\n",
        "\n",
        "'''"
      ]
    },
    {
      "cell_type": "code",
      "execution_count": 63,
      "metadata": {
        "colab": {
          "base_uri": "https://localhost:8080/",
          "height": 54
        },
        "id": "atNGsqRarDcr",
        "outputId": "8d4d7e57-352a-41f1-c174-1bdf5bbee00d"
      },
      "outputs": [
        {
          "output_type": "execute_result",
          "data": {
            "text/plain": [
              "'print(\"*-*-*-*-*-*\")\\nprint(\"Train\")\\nprint(X_val.shape)\\nprint(y_val.shape)\\n\\nprint(\"*-*-*-*-*-*\")\\nprint(\"Test\")\\nprint(X_test.shape)\\nprint(y_test.shape)\\n'"
            ],
            "application/vnd.google.colaboratory.intrinsic+json": {
              "type": "string"
            }
          },
          "metadata": {},
          "execution_count": 63
        }
      ],
      "source": [
        "\n",
        "\n",
        "'''print(\"*-*-*-*-*-*\")\n",
        "print(\"Train\")\n",
        "print(X_val.shape)\n",
        "print(y_val.shape)\n",
        "\n",
        "print(\"*-*-*-*-*-*\")\n",
        "print(\"Test\")\n",
        "print(X_test.shape)\n",
        "print(y_test.shape)\n",
        "'''"
      ]
    },
    {
      "cell_type": "code",
      "execution_count": 64,
      "metadata": {
        "id": "y9lxhAohrF1k"
      },
      "outputs": [],
      "source": [
        "from tensorflow.keras.applications import InceptionV3\n",
        "conv_base = InceptionV3(weights='imagenet',\n",
        "                              include_top=False,\n",
        "                              input_shape=(224, 224, 3))"
      ]
    },
    {
      "cell_type": "code",
      "execution_count": 65,
      "metadata": {
        "id": "qkyh8CICrVA5"
      },
      "outputs": [],
      "source": [
        "from keras import models\n",
        "from keras import layers\n",
        "model = models.Sequential()\n",
        "model.add(conv_base)\n",
        "#model.add(data_augmentation)\n",
        "model.add(Dropout(0.25))\n",
        "\n",
        "model.add(layers.Flatten())\n",
        "model.add(layers.Dense(512, activation='relu'))\n",
        "model.add(layers.Dense(256, activation='relu'))\n",
        "model.add(layers.Dense(128, activation='relu'))\n",
        "model.add(Dropout(0.25))\n",
        "model.add(layers.Dense(3, activation='softmax'))"
      ]
    },
    {
      "cell_type": "code",
      "execution_count": 66,
      "metadata": {
        "colab": {
          "base_uri": "https://localhost:8080/"
        },
        "id": "37kbxZVHrbiy",
        "outputId": "ce1f43be-49fe-489a-90ec-c29620e6c3ba"
      },
      "outputs": [
        {
          "output_type": "stream",
          "name": "stdout",
          "text": [
            "Model: \"sequential_8\"\n",
            "_________________________________________________________________\n",
            " Layer (type)                Output Shape              Param #   \n",
            "=================================================================\n",
            " inception_v3 (Functional)   (None, 5, 5, 2048)        21802784  \n",
            "                                                                 \n",
            " dropout_6 (Dropout)         (None, 5, 5, 2048)        0         \n",
            "                                                                 \n",
            " flatten_3 (Flatten)         (None, 51200)             0         \n",
            "                                                                 \n",
            " dense_12 (Dense)            (None, 512)               26214912  \n",
            "                                                                 \n",
            " dense_13 (Dense)            (None, 256)               131328    \n",
            "                                                                 \n",
            " dense_14 (Dense)            (None, 128)               32896     \n",
            "                                                                 \n",
            " dropout_7 (Dropout)         (None, 128)               0         \n",
            "                                                                 \n",
            " dense_15 (Dense)            (None, 3)                 387       \n",
            "                                                                 \n",
            "=================================================================\n",
            "Total params: 48,182,307\n",
            "Trainable params: 48,147,875\n",
            "Non-trainable params: 34,432\n",
            "_________________________________________________________________\n"
          ]
        }
      ],
      "source": [
        "\n",
        "\n",
        "\n",
        "model.summary()"
      ]
    },
    {
      "cell_type": "code",
      "execution_count": 67,
      "metadata": {
        "id": "40tKnK5Trg68"
      },
      "outputs": [],
      "source": [
        "\n",
        "\n",
        "model.compile(optimizer=\"rmsprop\",\n",
        " loss=\"categorical_crossentropy\",\n",
        " metrics=[\"accuracy\"])"
      ]
    },
    {
      "cell_type": "code",
      "execution_count": 68,
      "metadata": {
        "colab": {
          "base_uri": "https://localhost:8080/"
        },
        "id": "Icf14IqjrjwI",
        "outputId": "df4b6a81-4aa3-4640-cd7c-43e7f521cf63"
      },
      "outputs": [
        {
          "output_type": "stream",
          "name": "stdout",
          "text": [
            "Epoch 1/50\n",
            "12/12 [==============================] - 14s 278ms/step - loss: 11.7735 - accuracy: 0.4947 - val_loss: 37405.7773 - val_accuracy: 0.5306\n",
            "Epoch 2/50\n",
            "12/12 [==============================] - 2s 169ms/step - loss: 0.7207 - accuracy: 0.7000 - val_loss: 9827.9473 - val_accuracy: 0.4082\n",
            "Epoch 3/50\n",
            "12/12 [==============================] - 2s 167ms/step - loss: 0.5725 - accuracy: 0.7474 - val_loss: 619.6262 - val_accuracy: 0.5102\n",
            "Epoch 4/50\n",
            "12/12 [==============================] - 2s 167ms/step - loss: 2.7444 - accuracy: 0.4684 - val_loss: 357.2659 - val_accuracy: 0.4082\n",
            "Epoch 5/50\n",
            "12/12 [==============================] - 2s 168ms/step - loss: 0.8567 - accuracy: 0.6158 - val_loss: 15.5259 - val_accuracy: 0.4082\n",
            "Epoch 6/50\n",
            "12/12 [==============================] - 2s 168ms/step - loss: 0.8128 - accuracy: 0.7105 - val_loss: 30.5104 - val_accuracy: 0.4082\n",
            "Epoch 7/50\n",
            "12/12 [==============================] - 2s 170ms/step - loss: 0.4296 - accuracy: 0.8684 - val_loss: 86.6043 - val_accuracy: 0.4286\n",
            "Epoch 8/50\n",
            "12/12 [==============================] - 2s 169ms/step - loss: 1.0153 - accuracy: 0.7368 - val_loss: 2.8953 - val_accuracy: 0.6122\n",
            "Epoch 9/50\n",
            "12/12 [==============================] - 2s 169ms/step - loss: 0.6928 - accuracy: 0.8263 - val_loss: 76.9597 - val_accuracy: 0.4490\n",
            "Epoch 10/50\n",
            "12/12 [==============================] - 2s 171ms/step - loss: 0.7131 - accuracy: 0.8000 - val_loss: 776.0349 - val_accuracy: 0.4082\n",
            "Epoch 11/50\n",
            "12/12 [==============================] - 2s 169ms/step - loss: 0.6334 - accuracy: 0.8158 - val_loss: 229.0102 - val_accuracy: 0.5102\n",
            "Epoch 12/50\n",
            "12/12 [==============================] - 2s 170ms/step - loss: 0.6695 - accuracy: 0.8105 - val_loss: 84.0693 - val_accuracy: 0.4490\n",
            "Epoch 13/50\n",
            "12/12 [==============================] - 2s 170ms/step - loss: 0.8947 - accuracy: 0.7526 - val_loss: 888.2247 - val_accuracy: 0.4286\n",
            "Epoch 14/50\n",
            "12/12 [==============================] - 2s 169ms/step - loss: 0.7887 - accuracy: 0.7000 - val_loss: 28106.8828 - val_accuracy: 0.4286\n",
            "Epoch 15/50\n",
            "12/12 [==============================] - 2s 170ms/step - loss: 0.4129 - accuracy: 0.8895 - val_loss: 3321.6575 - val_accuracy: 0.4490\n",
            "Epoch 16/50\n",
            "12/12 [==============================] - 2s 169ms/step - loss: 0.8698 - accuracy: 0.7632 - val_loss: 579.0139 - val_accuracy: 0.7551\n",
            "Epoch 17/50\n",
            "12/12 [==============================] - 2s 171ms/step - loss: 0.3403 - accuracy: 0.8684 - val_loss: 233.0217 - val_accuracy: 0.7959\n",
            "Epoch 18/50\n",
            "12/12 [==============================] - 2s 169ms/step - loss: 0.4220 - accuracy: 0.8842 - val_loss: 92.4720 - val_accuracy: 0.8163\n",
            "Epoch 19/50\n",
            "12/12 [==============================] - 2s 169ms/step - loss: 0.3770 - accuracy: 0.8474 - val_loss: 6.6582 - val_accuracy: 0.8163\n",
            "Epoch 20/50\n",
            "12/12 [==============================] - 2s 169ms/step - loss: 0.2457 - accuracy: 0.9105 - val_loss: 23398.4727 - val_accuracy: 0.5306\n",
            "Epoch 21/50\n",
            "12/12 [==============================] - 2s 169ms/step - loss: 0.9907 - accuracy: 0.7789 - val_loss: 5344.7021 - val_accuracy: 0.4082\n",
            "Epoch 22/50\n",
            "12/12 [==============================] - 2s 170ms/step - loss: 0.3179 - accuracy: 0.9105 - val_loss: 1356.9656 - val_accuracy: 0.5102\n",
            "Epoch 23/50\n",
            "12/12 [==============================] - 2s 169ms/step - loss: 0.3175 - accuracy: 0.9263 - val_loss: 1193.9657 - val_accuracy: 0.6939\n",
            "Epoch 24/50\n",
            "12/12 [==============================] - 2s 167ms/step - loss: 0.1879 - accuracy: 0.9368 - val_loss: 121.2951 - val_accuracy: 0.8571\n",
            "Epoch 25/50\n",
            "12/12 [==============================] - 2s 168ms/step - loss: 0.7999 - accuracy: 0.8368 - val_loss: 4169.0591 - val_accuracy: 0.4082\n",
            "Epoch 26/50\n",
            "12/12 [==============================] - 2s 169ms/step - loss: 0.5692 - accuracy: 0.7211 - val_loss: 411.3110 - val_accuracy: 0.5714\n",
            "Epoch 27/50\n",
            "12/12 [==============================] - 2s 169ms/step - loss: 0.1322 - accuracy: 0.9526 - val_loss: 126.9128 - val_accuracy: 0.5714\n",
            "Epoch 28/50\n",
            "12/12 [==============================] - 2s 168ms/step - loss: 0.4820 - accuracy: 0.8474 - val_loss: 36.4579 - val_accuracy: 0.7347\n",
            "Epoch 29/50\n",
            "12/12 [==============================] - 2s 166ms/step - loss: 0.2274 - accuracy: 0.9158 - val_loss: 31.1155 - val_accuracy: 0.8571\n",
            "Epoch 30/50\n",
            "12/12 [==============================] - 2s 168ms/step - loss: 0.6818 - accuracy: 0.8158 - val_loss: 120620.5312 - val_accuracy: 0.4286\n",
            "Epoch 31/50\n",
            "12/12 [==============================] - 2s 167ms/step - loss: 1.1041 - accuracy: 0.8368 - val_loss: 11717.6885 - val_accuracy: 0.6735\n",
            "Epoch 32/50\n",
            "12/12 [==============================] - 2s 167ms/step - loss: 0.2119 - accuracy: 0.9211 - val_loss: 1055.9197 - val_accuracy: 0.8776\n",
            "Epoch 33/50\n",
            "12/12 [==============================] - 2s 166ms/step - loss: 1.1747 - accuracy: 0.8842 - val_loss: 6644.1416 - val_accuracy: 0.4286\n",
            "Epoch 34/50\n",
            "12/12 [==============================] - 2s 168ms/step - loss: 0.6942 - accuracy: 0.8211 - val_loss: 9040.8789 - val_accuracy: 0.4286\n",
            "Epoch 35/50\n",
            "12/12 [==============================] - 2s 165ms/step - loss: 0.5216 - accuracy: 0.9211 - val_loss: 2121.9875 - val_accuracy: 0.4286\n",
            "Epoch 36/50\n",
            "12/12 [==============================] - 2s 168ms/step - loss: 0.1857 - accuracy: 0.9842 - val_loss: 412.9193 - val_accuracy: 0.4286\n",
            "Epoch 37/50\n",
            "12/12 [==============================] - 2s 168ms/step - loss: 0.2131 - accuracy: 0.9368 - val_loss: 33.5306 - val_accuracy: 0.4694\n",
            "Epoch 38/50\n",
            "12/12 [==============================] - 2s 167ms/step - loss: 0.3115 - accuracy: 0.9579 - val_loss: 83.7542 - val_accuracy: 0.5510\n",
            "Epoch 39/50\n",
            "12/12 [==============================] - 2s 169ms/step - loss: 0.6548 - accuracy: 0.8684 - val_loss: 3.2635 - val_accuracy: 0.5918\n",
            "Epoch 40/50\n",
            "12/12 [==============================] - 2s 166ms/step - loss: 0.2140 - accuracy: 0.9526 - val_loss: 3.4463 - val_accuracy: 0.6122\n",
            "Epoch 41/50\n",
            "12/12 [==============================] - 2s 167ms/step - loss: 0.1474 - accuracy: 0.9421 - val_loss: 22.4583 - val_accuracy: 0.7755\n",
            "Epoch 42/50\n",
            "12/12 [==============================] - 2s 166ms/step - loss: 0.4331 - accuracy: 0.9632 - val_loss: 474.2268 - val_accuracy: 0.6939\n",
            "Epoch 43/50\n",
            "12/12 [==============================] - 2s 169ms/step - loss: 0.2287 - accuracy: 0.9632 - val_loss: 3376.7185 - val_accuracy: 0.6122\n",
            "Epoch 44/50\n",
            "12/12 [==============================] - 2s 169ms/step - loss: 0.2459 - accuracy: 0.9526 - val_loss: 582.7227 - val_accuracy: 0.6122\n",
            "Epoch 45/50\n",
            "12/12 [==============================] - 2s 169ms/step - loss: 0.3238 - accuracy: 0.9474 - val_loss: 2.8461 - val_accuracy: 0.8367\n",
            "Epoch 46/50\n",
            "12/12 [==============================] - 2s 168ms/step - loss: 0.1053 - accuracy: 0.9842 - val_loss: 0.0687 - val_accuracy: 1.0000\n",
            "Epoch 47/50\n",
            "12/12 [==============================] - 2s 169ms/step - loss: 0.1567 - accuracy: 0.9789 - val_loss: 56.8501 - val_accuracy: 0.7959\n",
            "Epoch 48/50\n",
            "12/12 [==============================] - 2s 169ms/step - loss: 0.2288 - accuracy: 0.9211 - val_loss: 35.5083 - val_accuracy: 0.8367\n",
            "Epoch 49/50\n",
            "12/12 [==============================] - 2s 168ms/step - loss: 0.1107 - accuracy: 0.9842 - val_loss: 0.2493 - val_accuracy: 0.9592\n",
            "Epoch 50/50\n",
            "12/12 [==============================] - 2s 166ms/step - loss: 0.4662 - accuracy: 0.9053 - val_loss: 25.9401 - val_accuracy: 0.7755\n"
          ]
        }
      ],
      "source": [
        "\n",
        "history = model.fit(\n",
        "                    train_data,\n",
        "                    validation_data = (imgs, labels),\n",
        "                    epochs=50)"
      ]
    },
    {
      "cell_type": "code",
      "execution_count": 69,
      "metadata": {
        "colab": {
          "base_uri": "https://localhost:8080/",
          "height": 573
        },
        "id": "AwrUPSufrnfo",
        "outputId": "d7050933-4911-49a2-a6cf-7b1301e9f52a"
      },
      "outputs": [
        {
          "output_type": "display_data",
          "data": {
            "text/plain": [
              "<Figure size 432x288 with 1 Axes>"
            ],
            "image/png": "[encoded data removed]"
          },
          "metadata": {
            "needs_background": "light"
          }
        },
        {
          "output_type": "display_data",
          "data": {
            "text/plain": [
              "<Figure size 432x288 with 1 Axes>"
            ],
            "image/png": "[encoded data removed]"
          },
          "metadata": {
            "needs_background": "light"
          }
        }
      ],
      "source": [
        "\n",
        "\n",
        "import matplotlib.pyplot as plt\n",
        "import seaborn as sns\n",
        "\n",
        "plt.plot(history.history['accuracy'], label=\"Training accuracy\")\n",
        "plt.plot(history.history['val_accuracy'], label=\"Validation accuracy\")\n",
        "plt.title('Training and validation accuracy')\n",
        "plt.xlabel('Epochs')\n",
        "plt.ylabel('Accuracy')\n",
        "plt.legend()\n",
        "plt.show()\n",
        "# Plot using Seaborn\n",
        "\n",
        "plt.plot(history.history['accuracy'], label=\"Training loss\")\n",
        "plt.plot(history.history['val_accuracy'], label=\"Validation loss\")\n",
        "#my_plot = sns.lineplot(data=history[[\"loss\",\"validation_loss\"]])\n",
        "plt.xlabel('Epochs')\n",
        "plt.ylabel('Loss')\n",
        "#plt.legend(labels=[\"Training\", \"Validation\"])\n",
        "plt.title('Training and Validation Loss')\n",
        "plt.show()"
      ]
    },
    {
      "cell_type": "code",
      "execution_count": 71,
      "metadata": {
        "colab": {
          "base_uri": "https://localhost:8080/"
        },
        "id": "jvQG4hqMr3W1",
        "outputId": "754ab74b-85b8-4fe6-e9c7-92b53ce011e0"
      },
      "outputs": [
        {
          "output_type": "stream",
          "name": "stdout",
          "text": [
            "2/2 [==============================] - 0s 77ms/step - loss: 25.9401 - accuracy: 0.7755\n"
          ]
        },
        {
          "output_type": "execute_result",
          "data": {
            "text/plain": [
              "[25.940065383911133, 0.7755101919174194]"
            ]
          },
          "metadata": {},
          "execution_count": 71
        }
      ],
      "source": [
        "\n",
        "model.evaluate(imgs, labels)"
      ]
    },
    {
      "cell_type": "code",
      "execution_count": 72,
      "metadata": {
        "id": "JL67G2TPr7Nb"
      },
      "outputs": [],
      "source": [
        "\n",
        "import numpy as np\n",
        "import pandas as pd\n",
        "\n"
      ]
    },
    {
      "cell_type": "code",
      "execution_count": 73,
      "metadata": {
        "id": "2H3dl4ynr-k_"
      },
      "outputs": [],
      "source": [
        "y_pred = model.predict(imgs, verbose=0)\n",
        "\n"
      ]
    },
    {
      "cell_type": "code",
      "execution_count": 74,
      "metadata": {
        "id": "fDXKuH9AsI8r"
      },
      "outputs": [],
      "source": [
        "from sklearn.metrics import confusion_matrix\n",
        "c_matrix = confusion_matrix(np.argmax(labels, axis=1), np.argmax(y_pred, axis=1))\n",
        "\n",
        "import seaborn as sns\n",
        "def confusion_matrix(confusion_matrix, class_names, figsize = (10,7), fontsize=14):\n",
        "    \"\"\"Prints a confusion matrix, as returned by sklearn.metrics.confusion_matrix, as a heatmap.\n",
        "    \n",
        "    Arguments\n",
        "    ---------\n",
        "    confusion_matrix: numpy.ndarray\n",
        "        The numpy.ndarray object returned from a call to sklearn.metrics.confusion_matrix. \n",
        "        Similarly constructed ndarrays can also be used.\n",
        "    class_names: list\n",
        "        An ordered list of class names, in the order they index the given confusion matrix.\n",
        "    figsize: tuple\n",
        "        A 2-long tuple, the first value determining the horizontal size of the ouputted figure,\n",
        "        the second determining the vertical size. Defaults to (10,7).\n",
        "    fontsize: int\n",
        "        Font size for axes labels. Defaults to 14.\n",
        "    \"\"\"\n",
        "    df_cm = pd.DataFrame(\n",
        "        confusion_matrix, index=class_names, columns=class_names, \n",
        "    )\n",
        "    fig = plt.figure(figsize=figsize)\n",
        "    try:\n",
        "        heatmap = sns.heatmap(df_cm, annot=True, fmt=\"d\")\n",
        "    except ValueError:\n",
        "        raise ValueError(\"Confusion matrix values must be integers.\")\n",
        "    heatmap.yaxis.set_ticklabels(heatmap.yaxis.get_ticklabels(), rotation=0, ha='right', fontsize=fontsize)\n",
        "    heatmap.xaxis.set_ticklabels(heatmap.xaxis.get_ticklabels(), rotation=45, ha='right', fontsize=fontsize)\n",
        "    plt.ylabel('True label')\n",
        "    plt.xlabel('Predicted label')"
      ]
    },
    {
      "cell_type": "code",
      "execution_count": 75,
      "metadata": {
        "colab": {
          "base_uri": "https://localhost:8080/",
          "height": 504
        },
        "id": "G0GkiJGasNB3",
        "outputId": "094b3329-2410-441c-836b-ff4bcf4c2d57"
      },
      "outputs": [
        {
          "output_type": "display_data",
          "data": {
            "text/plain": [
              "<Figure size 1080x504 with 2 Axes>"
            ],
            "image/png": "[encoded data removed]"
          },
          "metadata": {
            "needs_background": "light"
          }
        }
      ],
      "source": [
        "class_names = batches.class_indices.keys()\n",
        "confusion_matrix(c_matrix, class_names, figsize = (15,7), fontsize=14)"
      ]
    },
    {
      "cell_type": "code",
      "execution_count": 76,
      "metadata": {
        "colab": {
          "base_uri": "https://localhost:8080/"
        },
        "id": "6xKfQ2rnsTHv",
        "outputId": "db3a876f-0e03-42d9-b009-b4c426ae77ca"
      },
      "outputs": [
        {
          "output_type": "stream",
          "name": "stdout",
          "text": [
            "              precision    recall  f1-score   support\n",
            "\n",
            "           0       0.74      1.00      0.85        20\n",
            "           1       0.78      0.67      0.72        21\n",
            "           2       1.00      0.50      0.67         8\n",
            "\n",
            "    accuracy                           0.78        49\n",
            "   macro avg       0.84      0.72      0.75        49\n",
            "weighted avg       0.80      0.78      0.76        49\n",
            "\n"
          ]
        }
      ],
      "source": [
        "# From categorical outputs to discrete values\n",
        "\n",
        "y_pred_ = [np.argmax(y) for y in y_pred]\n",
        "y_test_ = [np.argmax(y) for y in labels]\n",
        "\n",
        "from sklearn.metrics import classification_report\n",
        "print(classification_report(y_test_, y_pred_))"
      ]
    },
    {
      "cell_type": "code",
      "execution_count": 58,
      "metadata": {
        "id": "WGXaRtidscvE"
      },
      "outputs": [],
      "source": [
        ""
      ]
    }
  ],
  "metadata": {
    "accelerator": "GPU",
    "colab": {
      "collapsed_sections": [],
      "name": "water_analysis_using_InceptionV3.ipynb",
      "provenance": []
    },
    "gpuClass": "standard",
    "kernelspec": {
      "display_name": "Python 3",
      "name": "python3"
    },
    "language_info": {
      "name": "python"
    }
  },
  "nbformat": 4,
  "nbformat_minor": 0
}