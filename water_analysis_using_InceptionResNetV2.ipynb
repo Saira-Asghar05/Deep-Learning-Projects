{
  "cells": [
    {
      "cell_type": "code",
      "execution_count": null,
      "metadata": {
        "id": "C662VB6Osuny"
      },
      "outputs": [],
      "source": [
        ""
      ]
    },
    {
      "cell_type": "code",
      "execution_count": 2,
      "metadata": {
        "id": "F5LlJMxNj_A6"
      },
      "outputs": [],
      "source": [
        "\n",
        "import os\n",
        "import glob\n",
        "import h5py\n",
        "from PIL import Image\n",
        "from keras.models import Sequential, Model\n",
        "from keras.applications.vgg16 import VGG16, preprocess_input\n",
        "from keras.preprocessing.image import ImageDataGenerator,load_img, img_to_array\n",
        "from keras.models import Sequential\n",
        "from keras.layers import Conv2D, MaxPooling2D, Dense, Dropout, Input, Flatten, SeparableConv2D\n",
        "from keras.layers import GlobalMaxPooling2D\n",
        "from tensorflow.keras.layers import BatchNormalization\n",
        "from keras.models import Model\n",
        "from tensorflow.keras.optimizers import Adam , SGD, RMSprop\n",
        "from keras.callbacks import ModelCheckpoint, Callback, EarlyStopping\n",
        "from tensorflow.keras.utils import to_categorical\n",
        "from keras import backend as K\n",
        "import numpy as np"
      ]
    },
    {
      "cell_type": "code",
      "execution_count": 2,
      "metadata": {
        "id": "PnLct_aKm-a1"
      },
      "outputs": [],
      "source": [
        ""
      ]
    },
    {
      "cell_type": "code",
      "execution_count": 4,
      "metadata": {
        "colab": {
          "base_uri": "https://localhost:8080/"
        },
        "id": "bt6EGrBXnBjV",
        "outputId": "38e20c03-b418-417f-96cf-9272b488db52"
      },
      "outputs": [
        {
          "output_type": "stream",
          "name": "stdout",
          "text": [
            "Found 190 images belonging to 3 classes.\n",
            "Found 49 images belonging to 3 classes.\n"
          ]
        }
      ],
      "source": [
        "\n",
        "\n",
        "import keras\n",
        "import tensorflow as tf\n",
        "from tensorflow.keras import layers\n",
        "\n",
        "data_augmentation = keras.Sequential(\n",
        " [\n",
        " layers.RandomFlip(\"horizontal\"),\n",
        " layers.RandomRotation(0.1),\n",
        " layers.RandomZoom(0.2),\n",
        " ]\n",
        ")\n",
        "\n",
        "\n",
        "from tensorflow.keras.preprocessing.image import ImageDataGenerator\n",
        "train_datagen = ImageDataGenerator( preprocessing_function= preprocess_input,\n",
        "                                   horizontal_flip = True,\n",
        "                                     rescale=1./255 )\n",
        "\n",
        "\n",
        "validation_datagen = ImageDataGenerator(preprocessing_function= preprocess_input,\n",
        "                                        horizontal_flip = True,\n",
        "                                        rescale=1./255)\n",
        "\n",
        "train_data = train_datagen.flow_from_directory(\n",
        "                    '/content/drive/MyDrive/water analysis/split data/train',\n",
        "                    target_size=(224, 224), batch_size= 16)\n",
        "\n",
        "batches = validation_datagen.flow_from_directory(\n",
        "                    '/content/drive/MyDrive/water analysis/split data/val',\n",
        "                   target_size=(224,224),batch_size= 49)\n",
        "                    "
      ]
    },
    {
      "cell_type": "code",
      "execution_count": 5,
      "metadata": {
        "colab": {
          "base_uri": "https://localhost:8080/"
        },
        "id": "oTCpgSIOo2kx",
        "outputId": "4806fa5a-28a5-4992-b87a-ddc31166e45e"
      },
      "outputs": [
        {
          "output_type": "execute_result",
          "data": {
            "text/plain": [
              "{'clean water': 0, 'lake': 1, 'pound': 2}"
            ]
          },
          "metadata": {},
          "execution_count": 5
        }
      ],
      "source": [
        "\n",
        "from PIL import ImageFile\n",
        "ImageFile.LOAD_TRUNCATED_IMAGES = True\n",
        "\n",
        "imgs, labels = next(batches)\n",
        "\n",
        "batches.class_indices"
      ]
    },
    {
      "cell_type": "code",
      "execution_count": 6,
      "metadata": {
        "colab": {
          "base_uri": "https://localhost:8080/"
        },
        "id": "6LMYjzMIqVFc",
        "outputId": "e5c6d5bb-5657-4f70-daf9-351edc1b7746"
      },
      "outputs": [
        {
          "output_type": "execute_result",
          "data": {
            "text/plain": [
              "{'clean water': 0, 'lake': 1, 'pound': 2}"
            ]
          },
          "metadata": {},
          "execution_count": 6
        }
      ],
      "source": [
        "\n",
        "\n",
        "\n",
        "\n",
        "\n",
        "categories = {\n",
        "'clean water': 0, 'lake': 1, 'pound': 2\n",
        "}\n",
        "\n",
        "categories"
      ]
    },
    {
      "cell_type": "code",
      "execution_count": 7,
      "metadata": {
        "colab": {
          "base_uri": "https://localhost:8080/",
          "height": 54
        },
        "id": "x_h6EO9Hq_GU",
        "outputId": "1b9dddc5-e579-4cbd-fa86-7859833db5fd"
      },
      "outputs": [
        {
          "output_type": "execute_result",
          "data": {
            "text/plain": [
              "'from sklearn.model_selection import train_test_split\\n# Train, validation and test split\\n\\nX_val, X_test, y_val, y_test = train_test_split(imgs,labels, test_size=0.2, random_state=7)\\n\\n'"
            ],
            "application/vnd.google.colaboratory.intrinsic+json": {
              "type": "string"
            }
          },
          "metadata": {},
          "execution_count": 7
        }
      ],
      "source": [
        "\n",
        "'''from sklearn.model_selection import train_test_split\n",
        "# Train, validation and test split\n",
        "\n",
        "X_val, X_test, y_val, y_test = train_test_split(imgs,labels, test_size=0.2, random_state=7)\n",
        "\n",
        "'''"
      ]
    },
    {
      "cell_type": "code",
      "execution_count": 8,
      "metadata": {
        "colab": {
          "base_uri": "https://localhost:8080/",
          "height": 54
        },
        "id": "atNGsqRarDcr",
        "outputId": "d3bdd101-beb0-4a3f-b78d-cc45b18ad57e"
      },
      "outputs": [
        {
          "output_type": "execute_result",
          "data": {
            "text/plain": [
              "'print(\"*-*-*-*-*-*\")\\nprint(\"Train\")\\nprint(X_val.shape)\\nprint(y_val.shape)\\n\\nprint(\"*-*-*-*-*-*\")\\nprint(\"Test\")\\nprint(X_test.shape)\\nprint(y_test.shape)\\n'"
            ],
            "application/vnd.google.colaboratory.intrinsic+json": {
              "type": "string"
            }
          },
          "metadata": {},
          "execution_count": 8
        }
      ],
      "source": [
        "\n",
        "\n",
        "'''print(\"*-*-*-*-*-*\")\n",
        "print(\"Train\")\n",
        "print(X_val.shape)\n",
        "print(y_val.shape)\n",
        "\n",
        "print(\"*-*-*-*-*-*\")\n",
        "print(\"Test\")\n",
        "print(X_test.shape)\n",
        "print(y_test.shape)\n",
        "'''"
      ]
    },
    {
      "cell_type": "code",
      "execution_count": 9,
      "metadata": {
        "colab": {
          "base_uri": "https://localhost:8080/"
        },
        "id": "y9lxhAohrF1k",
        "outputId": "17568d42-828d-49ee-9d69-8c181f3fa31b"
      },
      "outputs": [
        {
          "output_type": "stream",
          "name": "stdout",
          "text": [
            "Downloading data from https://storage.googleapis.com/tensorflow/keras-applications/inception_resnet_v2/inception_resnet_v2_weights_tf_dim_ordering_tf_kernels_notop.h5\n",
            "219062272/219055592 [==============================] - 1s 0us/step\n",
            "219070464/219055592 [==============================] - 1s 0us/step\n"
          ]
        }
      ],
      "source": [
        "from tensorflow.keras.applications import InceptionResNetV2\n",
        "conv_base = InceptionResNetV2(weights='imagenet',\n",
        "include_top=False,\n",
        "input_shape=(224, 224, 3))"
      ]
    },
    {
      "cell_type": "code",
      "execution_count": 10,
      "metadata": {
        "id": "qkyh8CICrVA5"
      },
      "outputs": [],
      "source": [
        "from keras import models\n",
        "from keras import layers\n",
        "model = models.Sequential()\n",
        "model.add(conv_base)\n",
        "#model.add(data_augmentation)\n",
        "model.add(Dropout(0.25))\n",
        "\n",
        "model.add(layers.Flatten())\n",
        "model.add(layers.Dense(512, activation='relu'))\n",
        "model.add(layers.Dense(256, activation='relu'))\n",
        "model.add(layers.Dense(128, activation='relu'))\n",
        "model.add(Dropout(0.25))\n",
        "model.add(layers.Dense(3, activation='softmax'))"
      ]
    },
    {
      "cell_type": "code",
      "execution_count": 11,
      "metadata": {
        "colab": {
          "base_uri": "https://localhost:8080/"
        },
        "id": "37kbxZVHrbiy",
        "outputId": "fea5a989-4c16-4d92-da94-94b607bacd0b"
      },
      "outputs": [
        {
          "output_type": "stream",
          "name": "stdout",
          "text": [
            "Model: \"sequential_2\"\n",
            "_________________________________________________________________\n",
            " Layer (type)                Output Shape              Param #   \n",
            "=================================================================\n",
            " inception_resnet_v2 (Functi  (None, 5, 5, 1536)       54336736  \n",
            " onal)                                                           \n",
            "                                                                 \n",
            " dropout (Dropout)           (None, 5, 5, 1536)        0         \n",
            "                                                                 \n",
            " flatten (Flatten)           (None, 38400)             0         \n",
            "                                                                 \n",
            " dense (Dense)               (None, 512)               19661312  \n",
            "                                                                 \n",
            " dense_1 (Dense)             (None, 256)               131328    \n",
            "                                                                 \n",
            " dense_2 (Dense)             (None, 128)               32896     \n",
            "                                                                 \n",
            " dropout_1 (Dropout)         (None, 128)               0         \n",
            "                                                                 \n",
            " dense_3 (Dense)             (None, 3)                 387       \n",
            "                                                                 \n",
            "=================================================================\n",
            "Total params: 74,162,659\n",
            "Trainable params: 74,102,115\n",
            "Non-trainable params: 60,544\n",
            "_________________________________________________________________\n"
          ]
        }
      ],
      "source": [
        "\n",
        "\n",
        "\n",
        "model.summary()"
      ]
    },
    {
      "cell_type": "code",
      "execution_count": 12,
      "metadata": {
        "id": "40tKnK5Trg68"
      },
      "outputs": [],
      "source": [
        "\n",
        "\n",
        "model.compile(optimizer=\"rmsprop\",\n",
        " loss=\"categorical_crossentropy\",\n",
        " metrics=[\"accuracy\"])"
      ]
    },
    {
      "cell_type": "code",
      "execution_count": 13,
      "metadata": {
        "colab": {
          "base_uri": "https://localhost:8080/"
        },
        "id": "Icf14IqjrjwI",
        "outputId": "a5f52cd3-13b1-480a-9e2a-0805e27baaeb"
      },
      "outputs": [
        {
          "output_type": "stream",
          "name": "stdout",
          "text": [
            "Epoch 1/50\n",
            "12/12 [==============================] - 82s 3s/step - loss: 6.3284 - accuracy: 0.5105 - val_loss: 204.5327 - val_accuracy: 0.4082\n",
            "Epoch 2/50\n",
            "12/12 [==============================] - 4s 364ms/step - loss: 0.4356 - accuracy: 0.8158 - val_loss: 26.3126 - val_accuracy: 0.4082\n",
            "Epoch 3/50\n",
            "12/12 [==============================] - 4s 367ms/step - loss: 6.5842 - accuracy: 0.8789 - val_loss: 2749.0164 - val_accuracy: 0.1224\n",
            "Epoch 4/50\n",
            "12/12 [==============================] - 4s 367ms/step - loss: 2.3758 - accuracy: 0.9474 - val_loss: 972.9256 - val_accuracy: 0.4286\n",
            "Epoch 5/50\n",
            "12/12 [==============================] - 5s 371ms/step - loss: 0.1438 - accuracy: 0.9789 - val_loss: 55.2278 - val_accuracy: 0.4694\n",
            "Epoch 6/50\n",
            "12/12 [==============================] - 5s 370ms/step - loss: 0.1414 - accuracy: 0.9632 - val_loss: 4.0168 - val_accuracy: 0.7551\n",
            "Epoch 7/50\n",
            "12/12 [==============================] - 5s 373ms/step - loss: 0.1480 - accuracy: 0.9526 - val_loss: 2.4705 - val_accuracy: 0.7755\n",
            "Epoch 8/50\n",
            "12/12 [==============================] - 5s 375ms/step - loss: 0.6045 - accuracy: 0.9316 - val_loss: 1.6385 - val_accuracy: 0.8163\n",
            "Epoch 9/50\n",
            "12/12 [==============================] - 5s 376ms/step - loss: 0.9431 - accuracy: 0.9158 - val_loss: 801.9921 - val_accuracy: 0.3265\n",
            "Epoch 10/50\n",
            "12/12 [==============================] - 5s 378ms/step - loss: 0.1162 - accuracy: 0.9579 - val_loss: 1.8904 - val_accuracy: 0.7959\n",
            "Epoch 11/50\n",
            "12/12 [==============================] - 5s 376ms/step - loss: 0.1193 - accuracy: 0.9737 - val_loss: 7.4350 - val_accuracy: 0.7347\n",
            "Epoch 12/50\n",
            "12/12 [==============================] - 5s 373ms/step - loss: 0.0359 - accuracy: 0.9947 - val_loss: 4.3655 - val_accuracy: 0.7551\n",
            "Epoch 13/50\n",
            "12/12 [==============================] - 5s 370ms/step - loss: 0.1418 - accuracy: 0.9789 - val_loss: 1.9452 - val_accuracy: 0.8367\n",
            "Epoch 14/50\n",
            "12/12 [==============================] - 5s 370ms/step - loss: 1.0887 - accuracy: 0.7895 - val_loss: 16572.0391 - val_accuracy: 0.4286\n",
            "Epoch 15/50\n",
            "12/12 [==============================] - 4s 368ms/step - loss: 0.1129 - accuracy: 0.9632 - val_loss: 214.0946 - val_accuracy: 0.4898\n",
            "Epoch 16/50\n",
            "12/12 [==============================] - 4s 368ms/step - loss: 0.0181 - accuracy: 0.9947 - val_loss: 9.1631 - val_accuracy: 0.8163\n",
            "Epoch 17/50\n",
            "12/12 [==============================] - 4s 365ms/step - loss: 0.7896 - accuracy: 0.9263 - val_loss: 132.2966 - val_accuracy: 0.3469\n",
            "Epoch 18/50\n",
            "12/12 [==============================] - 4s 367ms/step - loss: 0.1166 - accuracy: 0.9789 - val_loss: 37.5107 - val_accuracy: 0.6327\n",
            "Epoch 19/50\n",
            "12/12 [==============================] - 4s 367ms/step - loss: 0.3094 - accuracy: 0.9316 - val_loss: 0.3175 - val_accuracy: 0.9184\n",
            "Epoch 20/50\n",
            "12/12 [==============================] - 4s 366ms/step - loss: 0.6646 - accuracy: 0.9684 - val_loss: 6.0282 - val_accuracy: 0.8571\n",
            "Epoch 21/50\n",
            "12/12 [==============================] - 4s 367ms/step - loss: 0.1955 - accuracy: 0.9632 - val_loss: 0.5393 - val_accuracy: 0.8367\n",
            "Epoch 22/50\n",
            "12/12 [==============================] - 4s 368ms/step - loss: 0.4657 - accuracy: 0.9789 - val_loss: 0.8424 - val_accuracy: 0.8776\n",
            "Epoch 23/50\n",
            "12/12 [==============================] - 5s 372ms/step - loss: 0.1169 - accuracy: 0.9789 - val_loss: 3.7970 - val_accuracy: 0.8367\n",
            "Epoch 24/50\n",
            "12/12 [==============================] - 4s 368ms/step - loss: 0.5847 - accuracy: 0.9684 - val_loss: 1.4100 - val_accuracy: 0.8776\n",
            "Epoch 25/50\n",
            "12/12 [==============================] - 4s 368ms/step - loss: 0.0739 - accuracy: 0.9842 - val_loss: 1.9451 - val_accuracy: 0.9184\n",
            "Epoch 26/50\n",
            "12/12 [==============================] - 4s 371ms/step - loss: 0.6074 - accuracy: 0.9684 - val_loss: 4.9924 - val_accuracy: 0.8367\n",
            "Epoch 27/50\n",
            "12/12 [==============================] - 4s 371ms/step - loss: 0.0313 - accuracy: 0.9895 - val_loss: 0.6664 - val_accuracy: 0.9592\n",
            "Epoch 28/50\n",
            "12/12 [==============================] - 4s 371ms/step - loss: 0.0209 - accuracy: 0.9947 - val_loss: 0.2171 - val_accuracy: 0.9592\n",
            "Epoch 29/50\n",
            "12/12 [==============================] - 4s 367ms/step - loss: 0.1232 - accuracy: 0.9895 - val_loss: 0.6134 - val_accuracy: 0.9592\n",
            "Epoch 30/50\n",
            "12/12 [==============================] - 5s 371ms/step - loss: 0.0019 - accuracy: 1.0000 - val_loss: 0.6779 - val_accuracy: 0.9592\n",
            "Epoch 31/50\n",
            "12/12 [==============================] - 4s 369ms/step - loss: 0.0012 - accuracy: 1.0000 - val_loss: 0.9039 - val_accuracy: 0.9592\n",
            "Epoch 32/50\n",
            "12/12 [==============================] - 4s 367ms/step - loss: 1.5215e-04 - accuracy: 1.0000 - val_loss: 0.7367 - val_accuracy: 0.9592\n",
            "Epoch 33/50\n",
            "12/12 [==============================] - 5s 370ms/step - loss: 0.4062 - accuracy: 0.9526 - val_loss: 4.8530 - val_accuracy: 0.8776\n",
            "Epoch 34/50\n",
            "12/12 [==============================] - 4s 368ms/step - loss: 0.1538 - accuracy: 0.9632 - val_loss: 0.2454 - val_accuracy: 0.9592\n",
            "Epoch 35/50\n",
            "12/12 [==============================] - 4s 366ms/step - loss: 0.2485 - accuracy: 0.9105 - val_loss: 2.2278 - val_accuracy: 0.9184\n",
            "Epoch 36/50\n",
            "12/12 [==============================] - 4s 366ms/step - loss: 0.0174 - accuracy: 0.9947 - val_loss: 1.2383 - val_accuracy: 0.9388\n",
            "Epoch 37/50\n",
            "12/12 [==============================] - 4s 366ms/step - loss: 0.0325 - accuracy: 0.9895 - val_loss: 0.1131 - val_accuracy: 0.9592\n",
            "Epoch 38/50\n",
            "12/12 [==============================] - 4s 368ms/step - loss: 1.3225e-04 - accuracy: 1.0000 - val_loss: 0.0810 - val_accuracy: 0.9592\n",
            "Epoch 39/50\n",
            "12/12 [==============================] - 4s 367ms/step - loss: 1.7775e-04 - accuracy: 1.0000 - val_loss: 0.0737 - val_accuracy: 0.9592\n",
            "Epoch 40/50\n",
            "12/12 [==============================] - 4s 368ms/step - loss: 2.9764e-04 - accuracy: 1.0000 - val_loss: 0.0073 - val_accuracy: 1.0000\n",
            "Epoch 41/50\n",
            "12/12 [==============================] - 4s 369ms/step - loss: 1.5982 - accuracy: 0.8421 - val_loss: 13320.0596 - val_accuracy: 0.4286\n",
            "Epoch 42/50\n",
            "12/12 [==============================] - 4s 366ms/step - loss: 0.0387 - accuracy: 0.9842 - val_loss: 2491.3796 - val_accuracy: 0.6122\n",
            "Epoch 43/50\n",
            "12/12 [==============================] - 5s 369ms/step - loss: 0.0286 - accuracy: 0.9895 - val_loss: 348.5055 - val_accuracy: 0.7959\n",
            "Epoch 44/50\n",
            "12/12 [==============================] - 4s 367ms/step - loss: 0.0076 - accuracy: 0.9947 - val_loss: 56.9956 - val_accuracy: 0.8367\n",
            "Epoch 45/50\n",
            "12/12 [==============================] - 4s 367ms/step - loss: 0.5202 - accuracy: 0.9316 - val_loss: 0.4287 - val_accuracy: 0.8776\n",
            "Epoch 46/50\n",
            "12/12 [==============================] - 4s 365ms/step - loss: 0.1931 - accuracy: 0.9842 - val_loss: 0.0020 - val_accuracy: 1.0000\n",
            "Epoch 47/50\n",
            "12/12 [==============================] - 4s 367ms/step - loss: 0.4364 - accuracy: 0.9316 - val_loss: 1.5724 - val_accuracy: 0.9388\n",
            "Epoch 48/50\n",
            "12/12 [==============================] - 5s 370ms/step - loss: 0.3652 - accuracy: 0.9526 - val_loss: 0.0385 - val_accuracy: 0.9796\n",
            "Epoch 49/50\n",
            "12/12 [==============================] - 5s 369ms/step - loss: 0.0077 - accuracy: 1.0000 - val_loss: 0.0172 - val_accuracy: 1.0000\n",
            "Epoch 50/50\n",
            "12/12 [==============================] - 5s 372ms/step - loss: 0.0480 - accuracy: 0.9842 - val_loss: 2.3145e-04 - val_accuracy: 1.0000\n"
          ]
        }
      ],
      "source": [
        "\n",
        "history = model.fit(\n",
        "                    train_data,\n",
        "                    validation_data = (imgs, labels),\n",
        "                    epochs=50)"
      ]
    },
    {
      "cell_type": "code",
      "execution_count": 14,
      "metadata": {
        "colab": {
          "base_uri": "https://localhost:8080/",
          "height": 573
        },
        "id": "AwrUPSufrnfo",
        "outputId": "796aeeb9-2e71-4c9b-8ef5-f993cd1e1c96"
      },
      "outputs": [
        {
          "output_type": "display_data",
          "data": {
            "text/plain": [
              "<Figure size 432x288 with 1 Axes>"
            ],
            "image/png": "[encoded data removed]"
          },
          "metadata": {
            "needs_background": "light"
          }
        },
        {
          "output_type": "display_data",
          "data": {
            "text/plain": [
              "<Figure size 432x288 with 1 Axes>"
            ],
            "image/png": "[encoded data removed]"
          },
          "metadata": {
            "needs_background": "light"
          }
        }
      ],
      "source": [
        "\n",
        "\n",
        "import matplotlib.pyplot as plt\n",
        "import seaborn as sns\n",
        "\n",
        "plt.plot(history.history['accuracy'], label=\"Training accuracy\")\n",
        "plt.plot(history.history['val_accuracy'], label=\"Validation accuracy\")\n",
        "plt.title('Training and validation accuracy')\n",
        "plt.xlabel('Epochs')\n",
        "plt.ylabel('Accuracy')\n",
        "plt.legend()\n",
        "plt.show()\n",
        "# Plot using Seaborn\n",
        "\n",
        "plt.plot(history.history['accuracy'], label=\"Training loss\")\n",
        "plt.plot(history.history['val_accuracy'], label=\"Validation loss\")\n",
        "#my_plot = sns.lineplot(data=history[[\"loss\",\"validation_loss\"]])\n",
        "plt.xlabel('Epochs')\n",
        "plt.ylabel('Loss')\n",
        "#plt.legend(labels=[\"Training\", \"Validation\"])\n",
        "plt.title('Training and Validation Loss')\n",
        "plt.show()"
      ]
    },
    {
      "cell_type": "code",
      "execution_count": 16,
      "metadata": {
        "colab": {
          "base_uri": "https://localhost:8080/"
        },
        "id": "jvQG4hqMr3W1",
        "outputId": "642ff66d-9127-4e18-e994-c3e8446c356d"
      },
      "outputs": [
        {
          "output_type": "stream",
          "name": "stdout",
          "text": [
            "2/2 [==============================] - 0s 114ms/step - loss: 2.3145e-04 - accuracy: 1.0000\n"
          ]
        },
        {
          "output_type": "execute_result",
          "data": {
            "text/plain": [
              "[0.00023145030718296766, 1.0]"
            ]
          },
          "metadata": {},
          "execution_count": 16
        }
      ],
      "source": [
        "\n",
        "\n",
        "model.evaluate(imgs, labels)"
      ]
    },
    {
      "cell_type": "code",
      "execution_count": 17,
      "metadata": {
        "id": "JL67G2TPr7Nb"
      },
      "outputs": [],
      "source": [
        "\n",
        "import numpy as np\n",
        "import pandas as pd\n",
        "\n"
      ]
    },
    {
      "cell_type": "code",
      "execution_count": 18,
      "metadata": {
        "id": "2H3dl4ynr-k_"
      },
      "outputs": [],
      "source": [
        "y_pred = model.predict(imgs, verbose=0)\n",
        "\n"
      ]
    },
    {
      "cell_type": "code",
      "execution_count": 19,
      "metadata": {
        "id": "fDXKuH9AsI8r"
      },
      "outputs": [],
      "source": [
        "from sklearn.metrics import confusion_matrix\n",
        "c_matrix = confusion_matrix(np.argmax(labels, axis=1), np.argmax(y_pred, axis=1))\n",
        "\n",
        "import seaborn as sns\n",
        "def confusion_matrix(confusion_matrix, class_names, figsize = (10,7), fontsize=14):\n",
        "    \"\"\"Prints a confusion matrix, as returned by sklearn.metrics.confusion_matrix, as a heatmap.\n",
        "    \n",
        "    Arguments\n",
        "    ---------\n",
        "    confusion_matrix: numpy.ndarray\n",
        "        The numpy.ndarray object returned from a call to sklearn.metrics.confusion_matrix. \n",
        "        Similarly constructed ndarrays can also be used.\n",
        "    class_names: list\n",
        "        An ordered list of class names, in the order they index the given confusion matrix.\n",
        "    figsize: tuple\n",
        "        A 2-long tuple, the first value determining the horizontal size of the ouputted figure,\n",
        "        the second determining the vertical size. Defaults to (10,7).\n",
        "    fontsize: int\n",
        "        Font size for axes labels. Defaults to 14.\n",
        "    \"\"\"\n",
        "    df_cm = pd.DataFrame(\n",
        "        confusion_matrix, index=class_names, columns=class_names, \n",
        "    )\n",
        "    fig = plt.figure(figsize=figsize)\n",
        "    try:\n",
        "        heatmap = sns.heatmap(df_cm, annot=True, fmt=\"d\")\n",
        "    except ValueError:\n",
        "        raise ValueError(\"Confusion matrix values must be integers.\")\n",
        "    heatmap.yaxis.set_ticklabels(heatmap.yaxis.get_ticklabels(), rotation=0, ha='right', fontsize=fontsize)\n",
        "    heatmap.xaxis.set_ticklabels(heatmap.xaxis.get_ticklabels(), rotation=45, ha='right', fontsize=fontsize)\n",
        "    plt.ylabel('True label')\n",
        "    plt.xlabel('Predicted label')"
      ]
    },
    {
      "cell_type": "code",
      "execution_count": 20,
      "metadata": {
        "colab": {
          "base_uri": "https://localhost:8080/",
          "height": 500
        },
        "id": "G0GkiJGasNB3",
        "outputId": "34a387de-fdbe-4bb4-b5ce-1cdb42eee2c5"
      },
      "outputs": [
        {
          "output_type": "display_data",
          "data": {
            "text/plain": [
              "<Figure size 1080x504 with 2 Axes>"
            ],
            "image/png": "[encoded data removed]"
          },
          "metadata": {
            "needs_background": "light"
          }
        }
      ],
      "source": [
        "class_names = batches.class_indices.keys()\n",
        "confusion_matrix(c_matrix, class_names, figsize = (15,7), fontsize=14)"
      ]
    },
    {
      "cell_type": "code",
      "execution_count": 21,
      "metadata": {
        "colab": {
          "base_uri": "https://localhost:8080/"
        },
        "id": "6xKfQ2rnsTHv",
        "outputId": "c5aa31df-5255-4024-cddc-7369df7e1d63"
      },
      "outputs": [
        {
          "output_type": "stream",
          "name": "stdout",
          "text": [
            "              precision    recall  f1-score   support\n",
            "\n",
            "           0       1.00      1.00      1.00        20\n",
            "           1       1.00      1.00      1.00        21\n",
            "           2       1.00      1.00      1.00         8\n",
            "\n",
            "    accuracy                           1.00        49\n",
            "   macro avg       1.00      1.00      1.00        49\n",
            "weighted avg       1.00      1.00      1.00        49\n",
            "\n"
          ]
        }
      ],
      "source": [
        "# From categorical outputs to discrete values\n",
        "\n",
        "y_pred_ = [np.argmax(y) for y in y_pred]\n",
        "y_test_ = [np.argmax(y) for y in labels]\n",
        "\n",
        "from sklearn.metrics import classification_report\n",
        "print(classification_report(y_test_, y_pred_))"
      ]
    },
    {
      "cell_type": "code",
      "execution_count": null,
      "metadata": {
        "id": "WGXaRtidscvE"
      },
      "outputs": [],
      "source": [
        ""
      ]
    }
  ],
  "metadata": {
    "accelerator": "GPU",
    "colab": {
      "collapsed_sections": [],
      "name": "water_analysis_using_InceptionResNetV2.ipynb",
      "provenance": []
    },
    "gpuClass": "standard",
    "kernelspec": {
      "display_name": "Python 3",
      "name": "python3"
    },
    "language_info": {
      "name": "python"
    }
  },
  "nbformat": 4,
  "nbformat_minor": 0
}